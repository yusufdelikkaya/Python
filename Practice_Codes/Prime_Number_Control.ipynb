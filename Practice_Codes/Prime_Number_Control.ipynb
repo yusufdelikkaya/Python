{
 "cells": [
  {
   "cell_type": "code",
   "execution_count": null,
   "metadata": {},
   "outputs": [],
   "source": [
    "# 2024_07_06 Yusuf Delikkaya\n",
    "\n",
    "# Check if the inputted number is a Prime number.\n",
    "\n",
    "def isPrime(number):\n",
    "\n",
    "    if number <= 1:\n",
    "        return False\n",
    "\n",
    "    elif number == 2:\n",
    "        return True\n",
    "        \n",
    "    elif number % 2 == 0:\n",
    "        return False\n",
    "\n",
    "    else:\n",
    "        \n",
    "        for i in range(3, int(number**0.5) + 1, 2):\n",
    "            \n",
    "            if number % i == 0:\n",
    "                return False\n",
    "            \n",
    "        return True\n",
    "    \n",
    "\n",
    "\n",
    "\n",
    "\n",
    "number = int(input(\"Input a number.\"))\n",
    "\n",
    "if isPrime(number) == True:\n",
    "    print(f\"{number} is a Prime number.\")\n",
    "else:\n",
    "    print(f\"{number} is not a Prime number.\")\n"
   ]
  }
 ],
 "metadata": {
  "language_info": {
   "name": "python"
  }
 },
 "nbformat": 4,
 "nbformat_minor": 2
}
