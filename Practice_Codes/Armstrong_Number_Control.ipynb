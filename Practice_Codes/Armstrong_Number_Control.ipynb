{
 "cells": [
  {
   "cell_type": "code",
   "execution_count": null,
   "metadata": {},
   "outputs": [],
   "source": [
    "# 2024_07_06 Yusuf Delikkaya\n",
    "\n",
    "# Check if the inputted number is an Armstrong number.\n",
    "\n",
    "while True:\n",
    "    sayı = input(\"Bir sayı girin.Çıkmak için ( q ) harfine basın.\")\n",
    "\n",
    "    if sayı == \"q\":\n",
    "        print(\"Çıkış yaptınız.\")\n",
    "        break\n",
    "\n",
    "    if int(sayı) == sum ( [ int(i) ** len(sayı)  for i in sayı ] ):\n",
    "        print(f\"Girilen sayı: {sayı} armstrong bir sayıdır.\")\n",
    "    \n",
    "    else:\n",
    "        print(f\"Girilen sayı: {sayı} armstrong bir sayı değildir.\")"
   ]
  }
 ],
 "metadata": {
  "language_info": {
   "name": "python"
  }
 },
 "nbformat": 4,
 "nbformat_minor": 2
}
