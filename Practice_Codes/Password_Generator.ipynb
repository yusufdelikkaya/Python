{
 "cells": [
  {
   "cell_type": "markdown",
   "metadata": {},
   "source": [
    "* # Password Generator\n",
    "\n",
    "* The Python scripts provided generate random and secure passwords, utilizing the ;\n",
    "    * **'random'**, **'secrets'** and **'string'** modules.\n",
    "* The code offers two main functionalities: generating a single password of a specified length and generating multiple passwords at once.\n",
    "* By leveraging a combination of uppercase and lowercase letters, digits, and special characters, these passwords are designed to be robust and difficult to crack.\n",
    "* This utility can be especially useful for users needing to create unique passwords for different accounts, enhancing their overall cybersecurity."
   ]
  },
  {
   "cell_type": "code",
   "execution_count": 79,
   "metadata": {},
   "outputs": [
    {
     "name": "stdout",
     "output_type": "stream",
     "text": [
      "Your 15 character password is: <Z=`v3x$|7R\\U@/\n"
     ]
    }
   ],
   "source": [
    "# import the random and string modules\n",
    "import random\n",
    "import string\n",
    "\n",
    "# define the characters that can be used in the password\n",
    "all_characters = string.ascii_letters + string.digits + string.punctuation\n",
    "\n",
    "# ask the user for the desired length of the password\n",
    "length = int(input(\"Enter the length of the password: \"))\n",
    "\n",
    "# generate a password using randomly chosen characters\n",
    "# using the 'choices' function from the random module\n",
    "# and joining the resulting characters into a string\n",
    "password = ''.join(random.choices(all_characters, k=length))\n",
    "\n",
    "# display the generated password to the user\n",
    "print(f\"Your {length} character password is: {password}\")"
   ]
  },
  {
   "cell_type": "code",
   "execution_count": 81,
   "metadata": {},
   "outputs": [
    {
     "name": "stdout",
     "output_type": "stream",
     "text": [
      "Your 10 character password is: zx+.-8n`X0\n"
     ]
    }
   ],
   "source": [
    "# import the secrets and string modules\n",
    "import secrets\n",
    "import string\n",
    "\n",
    "# define the characters that can be used in the password\n",
    "all_characters = string.ascii_letters + string.digits + string.punctuation\n",
    "\n",
    "# ask the user for the desired length of the password\n",
    "length = int(input(\"Enter the length of the password: \"))\n",
    "\n",
    "# generate a password using randomly chosen characters\n",
    "# using the 'choice' function from the secrets module\n",
    "# module 'secrets' has no attribute 'choices'\n",
    "# and joining the resulting characters into a string\n",
    "password = ''.join(secrets.choice(all_characters) for _ in range(length))\n",
    "\n",
    "# display the generated password to the user\n",
    "print(f\"Your {length} character password is: {password}\")"
   ]
  },
  {
   "cell_type": "markdown",
   "metadata": {},
   "source": [
    "* ## Different function examples for password generator"
   ]
  },
  {
   "cell_type": "code",
   "execution_count": 71,
   "metadata": {},
   "outputs": [
    {
     "data": {
      "text/plain": [
       "'JJZLf)T&FhC2+JV'"
      ]
     },
     "execution_count": 71,
     "metadata": {},
     "output_type": "execute_result"
    }
   ],
   "source": [
    "# Function for generating single password utilizing 'random' and 'string' modules.\n",
    "\n",
    "import random\n",
    "import string\n",
    "\n",
    "def generate_password_1(length):\n",
    "    all_characters = string.ascii_letters + string.digits + string.punctuation\n",
    "    password = ''.join(random.choices(all_characters, k=length))\n",
    "    return password\n",
    "\n",
    "# generate 15 character password\n",
    "generate_password_1(15)"
   ]
  },
  {
   "cell_type": "code",
   "execution_count": 72,
   "metadata": {},
   "outputs": [
    {
     "data": {
      "text/plain": [
       "',~,?d,isw]hzbW('"
      ]
     },
     "execution_count": 72,
     "metadata": {},
     "output_type": "execute_result"
    }
   ],
   "source": [
    "# Function for generating single password utilizing 'secrets' and 'string' modules.\n",
    "\n",
    "import secrets\n",
    "import string\n",
    "\n",
    "def generate_password_2(length):\n",
    "    all_characters = string.ascii_letters + string.digits + string.punctuation\n",
    "    password = ''.join(secrets.choice(all_characters) for _ in range(length))\n",
    "    return password\n",
    "\n",
    "# generate 15 character password\n",
    "generate_password_2(15)"
   ]
  },
  {
   "cell_type": "code",
   "execution_count": 73,
   "metadata": {},
   "outputs": [
    {
     "data": {
      "text/plain": [
       "['*.#I#QVfGZ', 'Q?xE|%T+st']"
      ]
     },
     "execution_count": 73,
     "metadata": {},
     "output_type": "execute_result"
    }
   ],
   "source": [
    "# Function for generating multiple passwords  utilizing 'random' and 'string' modules.\n",
    "\n",
    "import random\n",
    "import string\n",
    "\n",
    "def generate_password_3(length, count):\n",
    "    all_characters = string.ascii_letters + string.digits + string.punctuation\n",
    "    passwords = []\n",
    "    for i in range(count):\n",
    "        password = ''.join(random.choices(all_characters, k=length))\n",
    "        passwords.append(password)\n",
    "    return passwords\n",
    "\n",
    "# generate 10 character, 2 password\n",
    "generate_password_3(10, 2)"
   ]
  },
  {
   "cell_type": "code",
   "execution_count": 76,
   "metadata": {},
   "outputs": [
    {
     "data": {
      "text/plain": [
       "['UD\\\\eziij15', '))/SsY$8&t']"
      ]
     },
     "execution_count": 76,
     "metadata": {},
     "output_type": "execute_result"
    }
   ],
   "source": [
    "# Function for generating multiple passwords  utilizing 'secrets' and 'string' modules.\n",
    "\n",
    "import secrets\n",
    "import string\n",
    "\n",
    "def generate_password_4(length, count):\n",
    "    all_characters = string.ascii_letters + string.digits + string.punctuation\n",
    "    passwords = []\n",
    "    for i in range(count):\n",
    "        password = ''.join(secrets.choice(all_characters) for _ in range(length))\n",
    "        passwords.append(password)\n",
    "    return passwords\n",
    "\n",
    "# generate 10 character, 2 password\n",
    "generate_password_4(10, 2)"
   ]
  },
  {
   "cell_type": "markdown",
   "metadata": {},
   "source": [
    "* ## Here's a more in-depth versions of a password generator code, incorporating various features like user customization, error handling, and more robust security practices:"
   ]
  },
  {
   "cell_type": "code",
   "execution_count": 90,
   "metadata": {},
   "outputs": [
    {
     "name": "stdout",
     "output_type": "stream",
     "text": [
      "Generated single password: 7pmnv@n=#=MY`aZ!\n",
      "\n",
      "Generated multiple passwords:\n",
      "1: XK-8E/g{$?q=7]5_\n",
      "2: \\>(@mAwU738;TVvA\n",
      "3: W8dsQka'6U>~y~2b\n",
      "4: M9<kh57+NFpgQ~yE\n",
      "5: GKgu?*F8wIj2_fNs\n"
     ]
    }
   ],
   "source": [
    "import string\n",
    "import secrets\n",
    "\n",
    "# Function to generate the character set for the password\n",
    "def get_character_set(include_upper=True, include_lower=True, include_digits=True, include_punctuation=True, exclude_similar=False):\n",
    "    \"\"\"\n",
    "    Generate the set of characters to be used in the password based on user preferences.\n",
    "    \n",
    "    Parameters:\n",
    "    - include_upper (bool): Include uppercase letters (A-Z)\n",
    "    - include_lower (bool): Include lowercase letters (a-z)\n",
    "    - include_digits (bool): Include digits (0-9)\n",
    "    - include_punctuation (bool): Include punctuation/special characters (!@#$%^&*)\n",
    "    - exclude_similar (bool): Exclude similar looking characters (e.g., 'O' and '0', 'I' and 'l')\n",
    "\n",
    "    Returns:\n",
    "    - str: The complete set of characters to be used for password generation.\n",
    "    \"\"\"\n",
    "    similar_characters = \"il1Lo0O\"\n",
    "    all_characters = \"\"\n",
    "    \n",
    "    if include_upper:\n",
    "        all_characters += string.ascii_uppercase\n",
    "    if include_lower:\n",
    "        all_characters += string.ascii_lowercase\n",
    "    if include_digits:\n",
    "        all_characters += string.digits\n",
    "    if include_punctuation:\n",
    "        all_characters += string.punctuation\n",
    "    \n",
    "    if exclude_similar:\n",
    "        all_characters = ''.join([c for c in all_characters if c not in similar_characters])\n",
    "    \n",
    "    return all_characters\n",
    "\n",
    "# Function to generate a secure password\n",
    "def generate_secure_password(length=12, include_upper=True, include_lower=True, include_digits=True, include_punctuation=True, exclude_similar=False):\n",
    "    \"\"\"\n",
    "    Generate a single secure password based on the provided parameters.\n",
    "    \n",
    "    Parameters:\n",
    "    - length (int): The length of the password\n",
    "    - include_upper (bool): Include uppercase letters\n",
    "    - include_lower (bool): Include lowercase letters\n",
    "    - include_digits (bool): Include digits\n",
    "    - include_punctuation (bool): Include punctuation/special characters\n",
    "    - exclude_similar (bool): Exclude similar looking characters\n",
    "\n",
    "    Returns:\n",
    "    - str: A randomly generated secure password.\n",
    "    \"\"\"\n",
    "    if length <= 0:\n",
    "        raise ValueError(\"Password length must be a positive integer\")\n",
    "    \n",
    "    all_characters = get_character_set(include_upper, include_lower, include_digits, include_punctuation, exclude_similar)\n",
    "    \n",
    "    if not all_characters:\n",
    "        raise ValueError(\"At least one type of character must be included\")\n",
    "    \n",
    "    password = ''.join(secrets.choice(all_characters) for _ in range(length))\n",
    "    \n",
    "    # Additional security check to ensure password complexity\n",
    "    if (include_upper and not any(c.isupper() for c in password)) or \\\n",
    "       (include_lower and not any(c.islower() for c in password)) or \\\n",
    "       (include_digits and not any(c.isdigit() for c in password)) or \\\n",
    "       (include_punctuation and not any(c in string.punctuation for c in password)):\n",
    "        return generate_secure_password(length, include_upper, include_lower, include_digits, include_punctuation, exclude_similar)\n",
    "    \n",
    "    return password\n",
    "\n",
    "# Function to generate multiple secure passwords\n",
    "def generate_multiple_passwords(count=1, length=12, include_upper=True, include_lower=True, include_digits=True, include_punctuation=True, exclude_similar=False):\n",
    "    \"\"\"\n",
    "    Generate multiple secure passwords.\n",
    "    \n",
    "    Parameters:\n",
    "    - count (int): Number of passwords to generate\n",
    "    - length (int): Length of each password\n",
    "    - include_upper (bool): Include uppercase letters\n",
    "    - include_lower (bool): Include lowercase letters\n",
    "    - include_digits (bool): Include digits\n",
    "    - include_punctuation (bool): Include punctuation/special characters\n",
    "    - exclude_similar (bool): Exclude similar looking characters\n",
    "\n",
    "    Returns:\n",
    "    - list: A list of randomly generated secure passwords.\n",
    "    \"\"\"\n",
    "    if count <= 0:\n",
    "        raise ValueError(\"Count must be a positive integer\")\n",
    "    \n",
    "    passwords = []\n",
    "    for _ in range(count):\n",
    "        passwords.append(generate_secure_password(length, include_upper, include_lower, include_digits, include_punctuation, exclude_similar))\n",
    "    \n",
    "    return passwords\n",
    "\n",
    "# Example usage\n",
    "if __name__ == \"__main__\":\n",
    "    try:\n",
    "        # Customize your password generation\n",
    "        length = 16\n",
    "        count = 5\n",
    "        exclude_similar_characters = True\n",
    "        \n",
    "        # Generate a single password\n",
    "        single_password = generate_secure_password(length=length, exclude_similar=exclude_similar_characters)\n",
    "        print(f\"Generated single password: {single_password}\")\n",
    "        \n",
    "        # Generate multiple passwords\n",
    "        multiple_passwords = generate_multiple_passwords(count=count, length=length, exclude_similar=exclude_similar_characters)\n",
    "        print(\"\\nGenerated multiple passwords:\")\n",
    "        for i, password in enumerate(multiple_passwords, 1):\n",
    "            print(f\"{i}: {password}\")\n",
    "        \n",
    "    except ValueError as ve:\n",
    "        print(f\"Error: {ve}\")\n"
   ]
  },
  {
   "cell_type": "code",
   "execution_count": 91,
   "metadata": {},
   "outputs": [
    {
     "name": "stdout",
     "output_type": "stream",
     "text": [
      "Welcome to the Password Generator!\n",
      "\n",
      "Generated passwords:\n",
      "1: NqTyccyBN9\n",
      "2: 3u6BqmM4eY\n",
      "3: RePJ4N7pQu\n",
      "4: 6yaTcCeeqZ\n",
      "5: Ugu4du5rp4\n"
     ]
    }
   ],
   "source": [
    "# Main function to interact with the user\n",
    "if __name__ == \"__main__\":\n",
    "    try:\n",
    "        print(\"Welcome to the Password Generator!\")\n",
    "        \n",
    "        # Get user inputs\n",
    "        length = int(input(\"Enter the desired password length: \"))\n",
    "        count = int(input(\"Enter the number of passwords to generate: \"))\n",
    "        include_upper = input(\"Include uppercase letters? (yes/no): \").strip().lower() == 'yes'\n",
    "        include_lower = input(\"Include lowercase letters? (yes/no): \").strip().lower() == 'yes'\n",
    "        include_digits = input(\"Include digits? (yes/no): \").strip().lower() == 'yes'\n",
    "        include_punctuation = input(\"Include special characters? (yes/no): \").strip().lower() == 'yes'\n",
    "        exclude_similar = input(\"Exclude similar looking characters (e.g., '1', 'l', 'O', '0')? (yes/no): \").strip().lower() == 'yes'\n",
    "        \n",
    "        # Generate the passwords\n",
    "        if count == 1:\n",
    "            password = generate_secure_password(length, include_upper, include_lower, include_digits, include_punctuation, exclude_similar)\n",
    "            print(f\"\\nGenerated password: {password}\")\n",
    "        else:\n",
    "            passwords = generate_multiple_passwords(count, length, include_upper, include_lower, include_digits, include_punctuation, exclude_similar)\n",
    "            print(\"\\nGenerated passwords:\")\n",
    "            for i, password in enumerate(passwords, 1):\n",
    "                print(f\"{i}: {password}\")\n",
    "        \n",
    "    except ValueError as ve:\n",
    "        print(f\"Error: {ve}\")\n"
   ]
  }
 ],
 "metadata": {
  "kernelspec": {
   "display_name": "Python 3",
   "language": "python",
   "name": "python3"
  },
  "language_info": {
   "codemirror_mode": {
    "name": "ipython",
    "version": 3
   },
   "file_extension": ".py",
   "mimetype": "text/x-python",
   "name": "python",
   "nbconvert_exporter": "python",
   "pygments_lexer": "ipython3",
   "version": "3.12.4"
  }
 },
 "nbformat": 4,
 "nbformat_minor": 2
}
