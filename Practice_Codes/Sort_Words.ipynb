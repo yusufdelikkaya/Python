{
 "cells": [
  {
   "cell_type": "markdown",
   "metadata": {},
   "source": [
    "## **Sort Words Function**\n",
    "\n",
    "```sort_words``` \n",
    "- This function accepts a text and prints the words in a comma-separated sequence after sorting them alphabetically.\n",
    "\n",
    "<br />\n",
    "\n",
    "```sort_words_TR``` \n",
    "- This function accepts a text and prints the words in a comma-separated sequence after sorting them in the given Turkish text alphabetically, considering Turkish-specific characters ```(ç,ğ,ş,ö,ü)```\n",
    "\n",
    "- The sorting respects the Turkish alphabet order by using locale-specific settings using ```locale``` library."
   ]
  },
  {
   "cell_type": "code",
   "execution_count": 1,
   "metadata": {},
   "outputs": [
    {
     "name": "stdout",
     "output_type": "stream",
     "text": [
      "Sorted sequence: and, continued, Despite, determined, heavy, hikers, journey, rain, strong, the, the, their, winds,\n"
     ]
    }
   ],
   "source": [
    "def sort_words(text):\n",
    "    \"\"\"\n",
    "    Splits the input text into words, strips leading/trailing whitespace\n",
    "    and periods, sorts the words alphabetically in a case-insensitive manner,\n",
    "    and then joins them into a comma-separated string.\n",
    "    \"\"\"\n",
    "    # Split the input string into a list of words\n",
    "    word_list = text.split(' ')\n",
    "    \n",
    "    # Strip any leading or trailing whitespace and specific punctuation from each word\n",
    "    # Consider using str.translate or regex for more comprehensive punctuation removal\n",
    "    word_list = [word.strip().strip('.') for word in word_list]\n",
    "    \n",
    "    # Sort the list of words alphabetically, ignoring case\n",
    "    word_list.sort(key=lambda word: word.lower())\n",
    "    \n",
    "    # Join the sorted list back into a comma-separated string\n",
    "    sorted_words = ', '.join(word_list)\n",
    "    \n",
    "    # Print the sorted sequence\n",
    "    print(\"Sorted sequence:\", sorted_words)\n",
    "\n",
    "# Example usage\n",
    "text = \"Despite the heavy rain and strong winds, the determined hikers continued their journey.\"\n",
    "sort_words(text)"
   ]
  },
  {
   "cell_type": "code",
   "execution_count": 2,
   "metadata": {},
   "outputs": [
    {
     "name": "stdout",
     "output_type": "stream",
     "text": [
      "Input: Despite the heavy rain and strong winds, the determined hikers continued their journey.\n",
      "Sorted sequence: and, continued, Despite, determined, heavy, hikers, journey, rain, strong, the, the, their, winds,\n",
      "You have successfully exited.\n"
     ]
    }
   ],
   "source": [
    "# Using sort_words function in a while loop.\n",
    "while True:\n",
    "    text = input(\"Please input your text. For exit enter (q)\")\n",
    "    \n",
    "    if text == \"q\":\n",
    "        print(\"You have successfully exited.\")\n",
    "        break\n",
    "    \n",
    "    else:\n",
    "        print(f\"Input: {text}\")\n",
    "        sort_words(text)\n"
   ]
  },
  {
   "cell_type": "markdown",
   "metadata": {},
   "source": [
    "---"
   ]
  },
  {
   "cell_type": "code",
   "execution_count": 3,
   "metadata": {},
   "outputs": [
    {
     "name": "stdout",
     "output_type": "stream",
     "text": [
      "Sorted sequence: dağcılar, devam, ettiler, kararlı, kuvvetli, rağmen,, rüzgara, Şiddetli, ve, yağmur, yolculuklarına\n"
     ]
    }
   ],
   "source": [
    "import locale\n",
    "\n",
    "def sort_words_TR(text):\n",
    "    \"\"\"\n",
    "    Sorts the words in the given Turkish text alphabetically, considering\n",
    "    Turkish-specific characters (ç, ğ, ş, ö, ü). The sorting respects the\n",
    "    Turkish alphabet order by using locale-specific settings.\n",
    "    \"\"\"\n",
    "    # Set the locale to Turkish to ensure correct sorting of Turkish characters\n",
    "    locale.setlocale(locale.LC_ALL, 'tr_TR.UTF-8')\n",
    "    \n",
    "    # Split the input string into a list of words, assuming space-separated words\n",
    "    word_list = text.split(' ')\n",
    "    \n",
    "    # Strip any leading or trailing whitespace and periods from each word\n",
    "    # Note: This only removes periods; consider expanding to other punctuation if needed.\n",
    "    word_list = [word.strip().strip('.') for word in word_list]\n",
    "    \n",
    "    # Sort the list of words alphabetically using the Turkish locale\n",
    "    word_list.sort(key=locale.strxfrm)\n",
    "    \n",
    "    # Join the sorted list back into a comma-separated string\n",
    "    sorted_words = ', '.join(word_list)\n",
    "    \n",
    "    # Print the sorted sequence\n",
    "    print(\"Sorted sequence:\", sorted_words)\n",
    "\n",
    "# Example usage\n",
    "text = \"Şiddetli yağmur ve kuvvetli rüzgara rağmen, kararlı dağcılar yolculuklarına devam ettiler.\"\n",
    "sort_words_TR(text)"
   ]
  },
  {
   "cell_type": "code",
   "execution_count": 4,
   "metadata": {},
   "outputs": [
    {
     "name": "stdout",
     "output_type": "stream",
     "text": [
      "Input: Şiddetli yağmur ve kuvvetli rüzgara rağmen, kararlı dağcılar yolculuklarına devam ettiler.\n",
      "Sorted sequence: dağcılar, devam, ettiler, kararlı, kuvvetli, rağmen,, rüzgara, Şiddetli, ve, yağmur, yolculuklarına\n",
      "You have successfully exited.\n"
     ]
    }
   ],
   "source": [
    "# Using sort_words_TR function in a while loop.\n",
    "while True:\n",
    "    text = input(\"Please input your comma separated sequence of words. For exit enter (q)\")\n",
    "    \n",
    "    if text == \"q\":\n",
    "        print(\"You have successfully exited.\")\n",
    "        break\n",
    "    \n",
    "    else:\n",
    "        print(f\"Input: {text}\")\n",
    "        sort_words_TR(text)"
   ]
  }
 ],
 "metadata": {
  "kernelspec": {
   "display_name": "base",
   "language": "python",
   "name": "python3"
  },
  "language_info": {
   "codemirror_mode": {
    "name": "ipython",
    "version": 3
   },
   "file_extension": ".py",
   "mimetype": "text/x-python",
   "name": "python",
   "nbconvert_exporter": "python",
   "pygments_lexer": "ipython3",
   "version": "3.12.4"
  }
 },
 "nbformat": 4,
 "nbformat_minor": 2
}
