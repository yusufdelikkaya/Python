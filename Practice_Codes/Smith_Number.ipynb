{
 "cells": [
  {
   "cell_type": "markdown",
   "metadata": {},
   "source": [
    "## **Smith Number**\n",
    "- A number \\( n \\) is a Smith number if it is composite (non-prime), and the sum of the digits of the number is equal to the sum of the digits of its prime factors.\n",
    "\n",
    "---\n",
    "\n",
    "### **Notes**\n",
    "- Smith numbers are only composite (non-prime) numbers, meaning prime numbers cannot be Smith numbers.\n",
    "\n",
    "- Smith numbers are particularly interesting topic for mathematical exploration because, unlike prime numbers, they exhibit a unique relationship between their factors and their digits.\n",
    "\n",
    "- These features make Smith numbers both educational and intriguing as a subject of study.\n",
    "\n",
    "---\n",
    "\n",
    "### **Educational Examples**\n",
    "\n",
    "**Example 1: 22**\n",
    "- **Prime Factors of 22**: 2 and 11\n",
    "- **Sum of the Digits of Prime Factors**: 2 + (1 + 1) = 4\n",
    "- **Sum of the Digits of 22**: 2 + 2 = 4\n",
    "- **Conclusion**: 22 is a Smith number because the sum of the digits of its prime factors equals the sum of its digits.\n",
    "\n",
    "**Example 2: 58**\n",
    "- **Prime Factors of 58**: 2 and 29\n",
    "- **Sum of the Digits of Prime Factors**: 2 + (2 + 9) = 13\n",
    "- **Sum of the Digits of 58**: 5 + 8 = 13\n",
    "- **Conclusion**: 58 is a Smith number because the sum of the digits of its prime factors equals the sum of its digits.\n",
    "\n",
    "**Example 3: 666**\n",
    "- **Prime Factors of 666**: 2, 3, and 37\n",
    "- **Sum of the Digits of Prime Factors**: 2 + 3 + (3 + 7) = 15\n",
    "- **Sum of the Digits of 666**: 6 + 6 + 6 = 18\n",
    "- **Conclusion**: 666 is not a Smith number because the sum of the digits of its prime factors does not equal the sum of its digits.\n",
    "\n",
    "**Example 4: 4937775**\n",
    "- **Prime Factors of 4937775**: 3, 5, 5, and 65837 (65837 is a prime number)\n",
    "- **Sum of the Digits of Prime Factors**: 3 + (5 + 5) + (6 + 5 + 8 + 3 + 7) = 42\n",
    "- **Sum of the Digits of 4937775**: 4 + 9 + 3 + 7 + 7 + 7 + 5 = 42\n",
    "- **Conclusion**: 4937775 is a Smith number because the sum of the digits of its prime factors equals the sum of its digits.\n"
   ]
  },
  {
   "cell_type": "markdown",
   "metadata": {},
   "source": [
    "---\n",
    "---\n",
    "---"
   ]
  },
  {
   "cell_type": "markdown",
   "metadata": {},
   "source": [
    "## **Smith Number Check Implementation**"
   ]
  },
  {
   "cell_type": "markdown",
   "metadata": {},
   "source": [
    "### **Function Notes**\n",
    "\n",
    "- **`is_prime`** : Checks if a number is prime.\n",
    "\n",
    "- **`prime_divisors`** : Finds and returns all prime divisors of a number.\n",
    "\n",
    "- **`sum_of_digits`** : Calculates the sum of the digits of a number.\n",
    "\n",
    "- **`is_smith`** : Determines if a number is a Smith number by comparing the sum of its digits with the sum of the digits of its prime factors."
   ]
  },
  {
   "cell_type": "code",
   "execution_count": null,
   "metadata": {},
   "outputs": [
    {
     "name": "stdout",
     "output_type": "stream",
     "text": [
      "True\n"
     ]
    }
   ],
   "source": [
    "### Smith Number Check Implementation\n",
    "\n",
    "# Step 1: Checking if a Number is Prime\n",
    "# This function determines if a given number is prime.\n",
    "\n",
    "def is_prime(number):\n",
    "    if number <= 1:\n",
    "        return False  # Numbers less than or equal to 1 are not prime\n",
    "    if number == 2:\n",
    "        return True  # 2 is the only even prime number\n",
    "    if number % 2 == 0:\n",
    "        return False  # Exclude other even numbers\n",
    "    for i in range(3, int(number**0.5) + 1, 2):\n",
    "        if number % i == 0:\n",
    "            return False  # Found a divisor, so it's not prime\n",
    "    return True  # No divisors found, it's prime\n",
    "\n",
    "# Explanation:\n",
    "# - Numbers <= 1: These are not prime.\n",
    "# - Number 2: It is the only even prime number.\n",
    "# - Even Numbers: Other even numbers are not prime, so they are excluded.\n",
    "# - Loop: Checks divisors from 3 up to the square root of the number. If a divisor is found, the number is not prime.\n",
    "# - Return: If no divisors are found, the number is prime.\n",
    "\n",
    "\n",
    "# Step 2: Finding the Prime Divisors of a Number\n",
    "# This function returns all the prime divisors of the given number.\n",
    "\n",
    "def prime_divisors(number):\n",
    "    result = []\n",
    "    for i in range(2, int(number**0.5) + 1):\n",
    "        while number % i == 0:  # Check if `i` is a factor\n",
    "            result.append(i)  # Add `i` to the list of prime factors\n",
    "            number //= i  # Reduce `number` by dividing it by `i`\n",
    "    if number > 1:\n",
    "        result.append(number)  # Append the remaining prime factor if it's greater than 1\n",
    "    return result\n",
    "\n",
    "# Explanation:\n",
    "# - Initialization: We start with an empty list `result` that will store the prime divisors.\n",
    "# - Loop: The loop iterates over potential factors starting from 2 up to the square root of the number (`number**0.5`). \n",
    "#   This is efficient because any factor larger than the square root would have been paired with a smaller factor already found.\n",
    "# - While Loop: The `while` loop continues to divide the number by `i` as long as `i` is a divisor.\n",
    "#   This handles cases where a prime factor appears multiple times.\n",
    "# - Final Check: After the loop, if the reduced `number` is still greater than 1, it must be a prime number, so it is added to the result.\n",
    "\n",
    "\n",
    "# Step 3: Calculating the Sum of Digits\n",
    "# This helper function calculates the sum of the digits of a given number.\n",
    "\n",
    "def sum_of_digits(number):\n",
    "    return sum(int(digit) for digit in str(number))\n",
    "\n",
    "# Explanation:\n",
    "# - Conversion to String: The number is converted to a string to iterate over each digit.\n",
    "# - Sum Calculation: Each digit is converted back to an integer, and the sum is calculated.\n",
    "\n",
    "\n",
    "# Step 4: Checking if a Number is a Smith Number\n",
    "# This function checks if a number is a Smith number by comparing the sum of its digits with the sum of the digits of its prime divisors.\n",
    "\n",
    "def is_smith(number):\n",
    "    # Find the sum of digits of the prime divisors\n",
    "    sum_of_digits_prime_divisors = sum(sum_of_digits(i) for i in prime_divisors(number))\n",
    "    # Compare with the sum of digits of the number itself\n",
    "    return sum_of_digits_prime_divisors == sum_of_digits(number)\n",
    "\n",
    "# Explanation:\n",
    "# - Prime Divisors Sum: We use the `prime_divisors` function to get all prime factors, and then calculate the sum of their digits.\n",
    "# - Comparison: The sum of the digits of the prime factors is compared with the sum of the digits of the original number.\n",
    "#   If they match, the number is a Smith number.\n",
    "\n",
    "\n",
    "# Example Usage:\n",
    "# Let's test this implementation with the number 4937775.\n",
    "\n",
    "print(is_smith(4937775))  # Expected output: True, because 4937775 is a Smith number"
   ]
  },
  {
   "cell_type": "markdown",
   "metadata": {},
   "source": [
    "---\n",
    "---\n",
    "---"
   ]
  },
  {
   "cell_type": "markdown",
   "metadata": {},
   "source": [
    "## **Smith Number Check Implementation Shorter Version**"
   ]
  },
  {
   "cell_type": "code",
   "execution_count": 105,
   "metadata": {},
   "outputs": [
    {
     "name": "stdout",
     "output_type": "stream",
     "text": [
      "True\n"
     ]
    }
   ],
   "source": [
    "### Smith Number Check Implementation\n",
    "\n",
    "# Step 1: Checking if a Number is Prime\n",
    "def is_prime(number):\n",
    "    if number <= 1:\n",
    "        return False  # Numbers less than or equal to 1 are not prime\n",
    "    if number == 2:\n",
    "        return True  # 2 is the only even prime number\n",
    "    if number % 2 == 0:\n",
    "        return False  # Exclude other even numbers\n",
    "    for i in range(3, int(number**0.5) + 1, 2):\n",
    "        if number % i == 0:\n",
    "            return False  # Found a divisor, so it's not prime\n",
    "    return True  # No divisors found, it's prime\n",
    "\n",
    "# Step 2: Finding the Prime Divisors of a Number\n",
    "def prime_divisors(number):\n",
    "    result = []\n",
    "    for i in range(2, int(number**0.5) + 1):\n",
    "        while number % i == 0:  # Check if `i` is a factor\n",
    "            result.append(i)  # Add `i` to the list of prime factors\n",
    "            number //= i  # Reduce `number` by dividing it by `i`\n",
    "    if number > 1:\n",
    "        result.append(number)  # Append the remaining prime factor if it's greater than 1\n",
    "    return result\n",
    "\n",
    "# Step 3: Calculating the Sum of Digits\n",
    "def sum_of_digits(number):\n",
    "    return sum(int(digit) for digit in str(number))\n",
    "\n",
    "# Step 4: Checking if a Number is a Smith Number\n",
    "def is_smith(number):\n",
    "    # Find the sum of digits of the prime divisors\n",
    "    sum_of_digits_prime_divisors = sum(sum_of_digits(i) for i in prime_divisors(number))\n",
    "    # Compare with the sum of digits of the number itself\n",
    "    return sum_of_digits_prime_divisors == sum_of_digits(number)\n",
    "\n",
    "# Example Usage:\n",
    "print(is_smith(4937775))  # Expected output: True, because 4937775 is a Smith number\n"
   ]
  },
  {
   "cell_type": "markdown",
   "metadata": {},
   "source": [
    "---\n",
    "---\n",
    "---"
   ]
  },
  {
   "cell_type": "markdown",
   "metadata": {},
   "source": [
    "## Another method for finding prime divisors"
   ]
  },
  {
   "cell_type": "code",
   "execution_count": 108,
   "metadata": {},
   "outputs": [
    {
     "name": "stdout",
     "output_type": "stream",
     "text": [
      "[3, 5, 65837]\n"
     ]
    }
   ],
   "source": [
    "# Another method for finding prime divisors\n",
    "# But this method doesn't give same divisors twice\n",
    "def prime_divisors_2(number):\n",
    "    result = []\n",
    "    for i in range(1, number + 1):\n",
    "        if number % i == 0 and isPrime(i):\n",
    "            result.append(i)\n",
    "        else:\n",
    "            continue\n",
    "    return result\n",
    "\n",
    "print(prime_divisors_2(4937775))"
   ]
  }
 ],
 "metadata": {
  "kernelspec": {
   "display_name": "Python 3",
   "language": "python",
   "name": "python3"
  },
  "language_info": {
   "codemirror_mode": {
    "name": "ipython",
    "version": 3
   },
   "file_extension": ".py",
   "mimetype": "text/x-python",
   "name": "python",
   "nbconvert_exporter": "python",
   "pygments_lexer": "ipython3",
   "version": "3.12.4"
  }
 },
 "nbformat": 4,
 "nbformat_minor": 2
}
