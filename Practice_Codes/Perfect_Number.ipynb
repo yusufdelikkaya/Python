{
 "cells": [
  {
   "cell_type": "markdown",
   "metadata": {},
   "source": [
    "## **Perfect Number**\n",
    "\n",
    "- A perfect number is a positive integer that is equal to the sum of its proper divisors, excluding the number itself. \n",
    "\n",
    "- In other words, if you list all the divisors of a number (excluding the number itself) and add them up, and the sum equals the original number, then the number is perfect.\n",
    "\n",
    "<br />\n",
    "\n",
    "#### **Notes**\n",
    "\n",
    "- Proper divisors of a number are all divisors of the number, except the number itself.\n",
    "\n",
    "- Perfect numbers have been studied since ancient times, with only a few known examples. \n",
    "\n",
    "- These numbers are rare and interesting due to their unique properties.\n",
    "\n",
    "<br />\n",
    "\n",
    "#### **Educational Examples**\n",
    "\n",
    "- ```Example 1: 6```\n",
    "\n",
    "```Divisors of 6``` : 1, 2, 3\n",
    "\n",
    "```Sum of Divisors``` : 1 + 2 + 3 = 6\n",
    "\n",
    "```Conclusion``` : 6 is a perfect number because the sum of its divisors equals the number itself.\n",
    "\n",
    "<br />\n",
    "\n",
    "- ```Example 2: 28```\n",
    "\n",
    "```Divisors of 28``` : 1, 2, 4, 7, 14\n",
    "\n",
    "```Sum of Divisors``` : 1 + 2 + 4 + 7 + 14 = 28\n",
    "\n",
    "```Conclusion``` : 28 is a perfect number because the sum of its divisors equals the number itself.\n",
    "\n",
    "<br />\n",
    "\n",
    "- ```Example 3: 496```\n",
    "\n",
    "```Divisors of 496``` : 1, 2, 4, 8, 16, 31, 62, 124, 248\n",
    "\n",
    "```Sum of Divisors``` : 1 + 2 + 4 + 8 + 16 + 31 + 62 + 124 + 248 = 496\n",
    "\n",
    "```Conclusion``` : 496 is a perfect number because the sum of its divisors equals the number itself.\n",
    "\n",
    "<br />\n",
    "\n",
    "- ```Example 4: 8128```\n",
    "\n",
    "```Divisors of 8128``` : 1, 2, 4, 8, 16, 32, 64, 127, 254, 508, 1016, 2032, 4064\n",
    "\n",
    "```Sum of Divisors``` : 1 + 2 + 4 + 8 + 16 + 32 + 64 + 127 + 254 + 508 + 1016 + 2032 + 4064 = 8128\n",
    "\n",
    "```Conclusion``` : 8128 is a perfect number because the sum of its divisors equals the number itself.\n"
   ]
  },
  {
   "cell_type": "code",
   "execution_count": 1,
   "metadata": {},
   "outputs": [
    {
     "name": "stdout",
     "output_type": "stream",
     "text": [
      "8128 is a perfect number\n"
     ]
    }
   ],
   "source": [
    "#Function for Perfect Number\n",
    "def is_perfect(number):\n",
    "    \"\"\"\n",
    "    This function checks if a given number is a perfect number.\n",
    "    \n",
    "    Parameters:\n",
    "    number (int): The number to be checked.\n",
    "\n",
    "    Returns:\n",
    "    bool: True if number is a perfect number, False otherwise.\n",
    "    \"\"\"\n",
    "    # A perfect number must be greater than 1\n",
    "    if number <= 1:  # return False for number <= 1\n",
    "        return False\n",
    "    \n",
    "    # Start with 1 because it's a proper divisor for any number\n",
    "    divisors = [1]\n",
    "    \n",
    "    # Loop through possible divisors from 2 to sqrt(number)\n",
    "    for i in range(2, int(number**0.5) + 1):  # checks divisors\n",
    "        if number % i == 0:  # If i is a divisor of number\n",
    "            divisors.append(i)  # Add i to the list of divisors\n",
    "            # Add the corresponding divisor pair if it's different from i\n",
    "            if i != number // i:\n",
    "                divisors.append(number // i)\n",
    "    \n",
    "    # Check if the sum of divisors equals the original number\n",
    "    return sum(divisors) == number\n",
    "\n",
    "# Example usage\n",
    "number = 8128\n",
    "\n",
    "if is_perfect(number):\n",
    "    print(f\"{number} is a perfect number\")\n",
    "else:\n",
    "    print(f\"{number} is not a perfect number\")\n"
   ]
  },
  {
   "cell_type": "code",
   "execution_count": 2,
   "metadata": {},
   "outputs": [
    {
     "name": "stdout",
     "output_type": "stream",
     "text": [
      "6 is a Perfect number.\n",
      "28 is a Perfect number.\n",
      "496 is a Perfect number.\n",
      "8128 is a Perfect number.\n"
     ]
    }
   ],
   "source": [
    "# Using is_perfect function with a for loop to find multiple Perfect numbers.\n",
    "for num in range(10000):\n",
    "    if is_perfect(num):\n",
    "        print(f\"{num} is a Perfect number.\")"
   ]
  },
  {
   "cell_type": "code",
   "execution_count": 3,
   "metadata": {},
   "outputs": [
    {
     "data": {
      "text/plain": [
       "[6, 28, 496, 8128]"
      ]
     },
     "execution_count": 3,
     "metadata": {},
     "output_type": "execute_result"
    }
   ],
   "source": [
    "# Using is_perfect function with a filter to find multiple Perfect numbers.\n",
    "list(filter(is_perfect, range(10000)))"
   ]
  },
  {
   "cell_type": "code",
   "execution_count": 4,
   "metadata": {},
   "outputs": [
    {
     "name": "stdout",
     "output_type": "stream",
     "text": [
      "0 is not a Perfect number.\n",
      "1 is not a Perfect number.\n",
      "6 is a Perfect number.\n",
      "27 is not a Perfect number.\n",
      "28 is a Perfect number.\n",
      "496 is a Perfect number.\n",
      "498 is not a Perfect number.\n",
      "8128 is a Perfect number.\n",
      "You have successfully exited.\n"
     ]
    }
   ],
   "source": [
    "# Using is_perfect function in a while loop to interact with the user\n",
    "while True:\n",
    "    sayı = input(\"Please enter a number. For exit enter (q)\")\n",
    "    \n",
    "    if sayı == \"q\":\n",
    "        print(\"You have successfully exited.\")\n",
    "        break\n",
    "    \n",
    "    if is_perfect(int(sayı)):\n",
    "        print(f\"{sayı} is a Perfect number.\")\n",
    "    \n",
    "    else:\n",
    "        print(f\"{sayı} is not a Perfect number.\")"
   ]
  }
 ],
 "metadata": {
  "kernelspec": {
   "display_name": "base",
   "language": "python",
   "name": "python3"
  },
  "language_info": {
   "codemirror_mode": {
    "name": "ipython",
    "version": 3
   },
   "file_extension": ".py",
   "mimetype": "text/x-python",
   "name": "python",
   "nbconvert_exporter": "python",
   "pygments_lexer": "ipython3",
   "version": "3.12.4"
  }
 },
 "nbformat": 4,
 "nbformat_minor": 2
}
