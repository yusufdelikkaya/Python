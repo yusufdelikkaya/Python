{
 "cells": [
  {
   "cell_type": "markdown",
   "metadata": {},
   "source": [
    "* ### Perfect number tespit eden fonksiyonu yazın.\n",
    "    * Fonksiyonu yazarken lambda kullanmaya çalışın.\n",
    "    * (Mükemmel sayı (perfect number), pozitif tam sayıların bir türüdür. Bir sayının, kendisi hariç pozitif bölenlerinin toplamı, sayının kendisine eşitse, o sayı mükemmel sayı olarak adlandırılır.\n",
    "        * 6 sayısının pozitif bölenleri: 1, 2, 3\n",
    "        * Bu bölenlerin toplamı: 1 + 2 + 3 = 6  )"
   ]
  },
  {
   "cell_type": "code",
   "execution_count": 10,
   "metadata": {},
   "outputs": [],
   "source": [
    "def isPerfect_1(number):\n",
    "    return (lambda number: number == sum([i for i in range(1, number) if number % i == 0]))(number)"
   ]
  },
  {
   "cell_type": "code",
   "execution_count": 15,
   "metadata": {},
   "outputs": [
    {
     "name": "stdout",
     "output_type": "stream",
     "text": [
      "12 is not a Perfect number.\n",
      "6 is a Perfect number.\n",
      "26 is not a Perfect number.\n",
      "28 is a Perfect number.\n",
      "You have successfully exited.\n"
     ]
    }
   ],
   "source": [
    "# Using isPerfect_1 function in a while loop.\n",
    "while True:\n",
    "    sayı = input(\"Please enter a number. For exit enter (q)\")\n",
    "    \n",
    "    if sayı == \"q\":\n",
    "        print(\"You have successfully exited.\")\n",
    "        break\n",
    "    \n",
    "    if isPerfect_1(int(sayı)):\n",
    "        print(f\"{sayı} is a Perfect number.\")\n",
    "    \n",
    "    else:\n",
    "        print(f\"{sayı} is not a Perfect number.\")"
   ]
  },
  {
   "cell_type": "code",
   "execution_count": 17,
   "metadata": {},
   "outputs": [
    {
     "data": {
      "text/plain": [
       "[6, 28]"
      ]
     },
     "execution_count": 17,
     "metadata": {},
     "output_type": "execute_result"
    }
   ],
   "source": [
    "# Using isPerfect_1 function with a filter to find multiple Perfect numbers.\n",
    "list(filter(isPerfect_1, range(1,101)))"
   ]
  },
  {
   "cell_type": "markdown",
   "metadata": {},
   "source": [
    "---\n",
    "---\n",
    "---"
   ]
  },
  {
   "cell_type": "code",
   "execution_count": null,
   "metadata": {},
   "outputs": [],
   "source": [
    "def isPerfectNumber_2(n):\n",
    "    \"\"\"\n",
    "    This function checks if a given number n is a perfect number.\n",
    "    \n",
    "    Parameters:\n",
    "    n (int): The number to be checked.\n",
    "\n",
    "    Returns:\n",
    "    bool: True if n is a perfect number, False otherwise.\n",
    "    \"\"\"\n",
    "    # Initialize sum of divisors\n",
    "    divisors_sum = 0\n",
    "    \n",
    "    # Find all divisors of n (excluding n itself)\n",
    "    for i in range(1, n):\n",
    "        if n % i == 0:\n",
    "            divisors_sum += i\n",
    "    \n",
    "    # A perfect number is equal to the sum of its divisors\n",
    "    return divisors_sum == n\n",
    "\n",
    "# Example usage\n",
    "number = 28\n",
    "if isPerfectNumber(number):\n",
    "    print(f\"{number} is a perfect number\")\n",
    "else:\n",
    "    print(f\"{number} is not a perfect number\")\n"
   ]
  }
 ],
 "metadata": {
  "kernelspec": {
   "display_name": "base",
   "language": "python",
   "name": "python3"
  },
  "language_info": {
   "codemirror_mode": {
    "name": "ipython",
    "version": 3
   },
   "file_extension": ".py",
   "mimetype": "text/x-python",
   "name": "python",
   "nbconvert_exporter": "python",
   "pygments_lexer": "ipython3",
   "version": "3.12.4"
  }
 },
 "nbformat": 4,
 "nbformat_minor": 2
}
