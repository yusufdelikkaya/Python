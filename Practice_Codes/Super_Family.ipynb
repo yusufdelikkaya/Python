{
 "cells": [
  {
   "cell_type": "markdown",
   "metadata": {},
   "source": [
    "## **Super Family**\n",
    "\n",
    "#### **Objective**\n",
    "\n",
    "- Anne, baba ve çocuktan oluşan çekirdek ailenin SÜPER AİLE olup olmadığını bulan kodu yazın.\n",
    "\n",
    "- İsimleri kullanıcıdan isteyin.\n",
    "\n",
    "- Çocuğun ismindeki sessiz harflerin hepsi, anne ve babanın isimlerinde var ise bu aile süper ailedir.\n",
    "\n",
    "- anne ve baba isminden en az bir tane olmalı.\n",
    "\n",
    "#### **Example**\n",
    "\n",
    "```def super_family(anne, baba, cocuk)```\n",
    "\n",
    "```super_family('Halil', 'Merve', 'Veli') >> Süper aile. ('v' anneden, 'l' babadan)```\n",
    "\n",
    "```super_family('Murat', 'Songül', 'Mert') >> Süper aile değil. Anneden harf yok.```\n"
   ]
  },
  {
   "cell_type": "code",
   "execution_count": 1,
   "metadata": {},
   "outputs": [],
   "source": [
    "def super_aile(baba, anne, cocuk):\n",
    "\n",
    "    ünlü_harfler = set(\"aeıioöuü\")\n",
    "\n",
    "    baba_harfler = set(baba.lower()) - ünlü_harfler\n",
    "    anne_harfler = set(anne.lower()) - ünlü_harfler\n",
    "    cocuk_harfler = set(cocuk.lower()) - ünlü_harfler\n",
    "\n",
    "    if cocuk_harfler.issubset(baba_harfler | anne_harfler):\n",
    "        if cocuk_harfler & baba_harfler != set() and cocuk_harfler & anne_harfler != set():\n",
    "            return True\n",
    "        else:\n",
    "            return False\n",
    "    else:\n",
    "        return False"
   ]
  },
  {
   "cell_type": "code",
   "execution_count": 2,
   "metadata": {},
   "outputs": [
    {
     "name": "stdout",
     "output_type": "stream",
     "text": [
      "Baba adı: Ali, Anne adı: Ayşe, Çocuk adı: Ayhan >> Süper aile değildir.\n",
      "Çıkış yapılıyor.\n"
     ]
    }
   ],
   "source": [
    "while True:\n",
    "    choice = input(\"Süper aile kontrolü için 1, çıkış için 2 basınız: \")\n",
    "\n",
    "    if choice == \"2\":\n",
    "        print(\"Çıkış yapılıyor.\")\n",
    "        break\n",
    "    \n",
    "    elif choice == \"1\":\n",
    "        baba = input(\"Lütfen babanın ismini giriniz: \")\n",
    "        anne = input(\"Lütfen annenin ismini giriniz: \")\n",
    "        cocuk = input(\"Lütfen çocuğun ismini giriniz: \")\n",
    "\n",
    "        if super_aile(baba, anne, cocuk):\n",
    "            print(f\"Baba adı: {baba}, Anne adı: {anne}, Çocuk adı: {cocuk} >> Süper aile.\")\n",
    "        else:\n",
    "            print(f\"Baba adı: {baba}, Anne adı: {anne}, Çocuk adı: {cocuk} >> Süper aile değildir.\")\n",
    "    \n",
    "    else:\n",
    "        print(\"Geçersiz seçim, lütfen tekrar deneyin.\")"
   ]
  }
 ],
 "metadata": {
  "kernelspec": {
   "display_name": "base",
   "language": "python",
   "name": "python3"
  },
  "language_info": {
   "codemirror_mode": {
    "name": "ipython",
    "version": 3
   },
   "file_extension": ".py",
   "mimetype": "text/x-python",
   "name": "python",
   "nbconvert_exporter": "python",
   "pygments_lexer": "ipython3",
   "version": "3.12.4"
  }
 },
 "nbformat": 4,
 "nbformat_minor": 2
}
