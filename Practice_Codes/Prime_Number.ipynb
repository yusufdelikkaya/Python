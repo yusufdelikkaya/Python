{
 "cells": [
  {
   "cell_type": "markdown",
   "metadata": {},
   "source": [
    "## **Prime Number**\n",
    "\n",
    "- A prime number is a number greater than 1 that has no divisors other than 1 and itself.\n",
    "\n",
    "<br />\n",
    "\n",
    "#### **Examples**\n",
    "\n",
    "- For 2, the only divisors are 1 and 2, so it is a prime number.\n",
    "\n",
    "- For 3, the only divisors are 1 and 3, so it is a prime number.\n",
    "\n",
    "- For 4, the divisors are 1, 2, and 4, so it is **not** a prime number.\n",
    "\n",
    "- For 5, the only divisors are 1 and 5, so it is a prime number.\n",
    "\n",
    "- For 6, the divisors are 1, 2, 3, and 6, so it is **not** a prime number.\n",
    "\n",
    "- For 7, the only divisors are 1 and 7, so it is a prime number.\n"
   ]
  },
  {
   "cell_type": "code",
   "execution_count": 1,
   "metadata": {},
   "outputs": [
    {
     "name": "stdout",
     "output_type": "stream",
     "text": [
      "151 is a Prime number.\n"
     ]
    }
   ],
   "source": [
    "# Checking if a Number is Prime\n",
    "\n",
    "def is_prime(number):\n",
    "    \"\"\"\n",
    "    This function determines if a given number is prime.\n",
    "    \"\"\"\n",
    "    if number <= 1:\n",
    "        return False  # Numbers less than or equal to 1 are not prime\n",
    "    if number == 2:\n",
    "        return True  # 2 is the only even prime number\n",
    "    if number % 2 == 0:\n",
    "        return False  # Exclude other even numbers\n",
    "    for i in range(3, int(number**0.5) + 1, 2):\n",
    "        if number % i == 0:\n",
    "            return False  # Found a divisor, so it's not prime\n",
    "    return True  # No divisors found, it's prime\n",
    "\n",
    "# Explanation:\n",
    "# - Numbers <= 1: These are not prime.\n",
    "# - Number 2: It is the only even prime number.\n",
    "# - Even Numbers: Other even numbers are not prime, so they are excluded.\n",
    "# - Loop: Checks divisors from 3 up to the square root of the number. If a divisor is found, the number is not prime.\n",
    "# - Return: If no divisors are found, the number is prime.\n",
    "\n",
    "\n",
    "# Example usage\n",
    "number = 151\n",
    "\n",
    "if is_prime(number) == True:\n",
    "    print(f\"{number} is a Prime number.\")\n",
    "else:\n",
    "    print(f\"{number} is not a Prime number.\")\n"
   ]
  },
  {
   "cell_type": "code",
   "execution_count": 4,
   "metadata": {},
   "outputs": [
    {
     "name": "stdout",
     "output_type": "stream",
     "text": [
      "0 is not an Prime number.\n",
      "1 is not an Prime number.\n",
      "2 is an Prime number.\n",
      "3 is an Prime number.\n",
      "4 is not an Prime number.\n",
      "5 is an Prime number.\n",
      "6 is not an Prime number.\n",
      "7 is an Prime number.\n",
      "8 is not an Prime number.\n",
      "9 is not an Prime number.\n",
      "10 is not an Prime number.\n",
      "11 is an Prime number.\n",
      "You have successfully exited.\n"
     ]
    }
   ],
   "source": [
    "# Using is_prime function in a while loop.\n",
    "while True:\n",
    "    number = input(\"Please enter a number. For exit enter (q)\")\n",
    "    \n",
    "    if number == \"q\":\n",
    "        print(\"You have successfully exited.\")\n",
    "        break\n",
    "    \n",
    "    if is_prime(int(number)):\n",
    "        print(f\"{number} is an Prime number.\")\n",
    "    \n",
    "    else:\n",
    "        print(f\"{number} is not an Prime number.\")"
   ]
  },
  {
   "cell_type": "code",
   "execution_count": 3,
   "metadata": {},
   "outputs": [
    {
     "name": "stdout",
     "output_type": "stream",
     "text": [
      "2 is an Prime number.\n",
      "3 is an Prime number.\n",
      "5 is an Prime number.\n",
      "7 is an Prime number.\n",
      "11 is an Prime number.\n",
      "13 is an Prime number.\n",
      "17 is an Prime number.\n",
      "19 is an Prime number.\n",
      "23 is an Prime number.\n",
      "29 is an Prime number.\n",
      "31 is an Prime number.\n",
      "37 is an Prime number.\n",
      "41 is an Prime number.\n",
      "43 is an Prime number.\n",
      "47 is an Prime number.\n",
      "53 is an Prime number.\n",
      "59 is an Prime number.\n",
      "61 is an Prime number.\n",
      "67 is an Prime number.\n",
      "71 is an Prime number.\n",
      "73 is an Prime number.\n",
      "79 is an Prime number.\n",
      "83 is an Prime number.\n",
      "89 is an Prime number.\n",
      "97 is an Prime number.\n"
     ]
    }
   ],
   "source": [
    "# Loop over each number in the range\n",
    "for num in range(100):\n",
    "    if is_prime(num):\n",
    "        print(f\"{num} is an Prime number.\")"
   ]
  }
 ],
 "metadata": {
  "kernelspec": {
   "display_name": "Python 3",
   "language": "python",
   "name": "python3"
  },
  "language_info": {
   "codemirror_mode": {
    "name": "ipython",
    "version": 3
   },
   "file_extension": ".py",
   "mimetype": "text/x-python",
   "name": "python",
   "nbconvert_exporter": "python",
   "pygments_lexer": "ipython3",
   "version": "3.12.4"
  }
 },
 "nbformat": 4,
 "nbformat_minor": 2
}
