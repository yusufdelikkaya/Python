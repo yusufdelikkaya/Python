{
 "cells": [
  {
   "cell_type": "markdown",
   "metadata": {},
   "source": [
    "## **Rectangle Shape Printer Function**\n",
    "\n",
    "- **Objective 1**: Write a function to print a rectangle shape of a given size made of `'*'` characters.\n",
    "\n",
    "- **Objective 2**: Write a function to print a rectangle shape of a given size made of `'-'` characters for horizontal lines and `'|'` characters for vertical lines.\n",
    "\n",
    "- **Parameters**:\n",
    "  - `M`: Width of the rectangle (must be greater than 0).\n",
    "  - `N`: Height of the rectangle (must be greater than 0).\n",
    "\n",
    "---\n",
    "\n",
    "#### **Example 1**\n",
    "- **Input**:\n",
    "  - Width (`M`) = 10\n",
    "  - Height (`N`) = 5\n",
    "\n",
    "- **Output**:\n",
    "\n",
    "```\n",
    "**********\n",
    "*        *\n",
    "*        *\n",
    "*        *\n",
    "**********\n",
    "```\n",
    "\n",
    "---\n",
    "\n",
    "#### **Example 2**\n",
    "- **Input**:\n",
    "  - Width (`M`) = 10\n",
    "  - Height (`N`) = 5\n",
    "\n",
    "- **Output**:\n",
    "\n",
    "```\n",
    "----------\n",
    "|        |\n",
    "|        |\n",
    "|        |\n",
    "----------\n",
    "```"
   ]
  },
  {
   "cell_type": "markdown",
   "metadata": {},
   "source": [
    "---\n",
    "---\n",
    "---"
   ]
  },
  {
   "cell_type": "code",
   "execution_count": 1,
   "metadata": {},
   "outputs": [
    {
     "name": "stdout",
     "output_type": "stream",
     "text": [
      "**********\n",
      "*        *\n",
      "*        *\n",
      "*        *\n",
      "**********\n"
     ]
    }
   ],
   "source": [
    "def rectangle_shape_1(m, n):\n",
    "    for row in range(n):\n",
    "        if row == 0 or row == n - 1:\n",
    "            print('*' * m)\n",
    "        else:\n",
    "            print('*' + ' ' * (m - 2) + '*')\n",
    "\n",
    "# Example usage\n",
    "M = 10\n",
    "N = 5\n",
    "rectangle_shape_1(M, N)"
   ]
  },
  {
   "cell_type": "code",
   "execution_count": 2,
   "metadata": {},
   "outputs": [
    {
     "name": "stdout",
     "output_type": "stream",
     "text": [
      "----------\n",
      "|        |\n",
      "|        |\n",
      "|        |\n",
      "----------\n"
     ]
    }
   ],
   "source": [
    "def rectangle_shape_2(m, n):\n",
    "    for row in range(n):\n",
    "        if row == 0 or row == n - 1:\n",
    "            print('-' * m)\n",
    "        else:\n",
    "            print('|' + ' ' * (m - 2) + '|')\n",
    "\n",
    "# Example usage\n",
    "M = 10\n",
    "N = 5\n",
    "rectangle_shape_2(M, N)"
   ]
  },
  {
   "cell_type": "code",
   "execution_count": 3,
   "metadata": {},
   "outputs": [
    {
     "name": "stdout",
     "output_type": "stream",
     "text": [
      "**********\n",
      "*        *\n",
      "*        *\n",
      "*        *\n",
      "**********\n",
      "\n",
      "\n",
      "----------\n",
      "|        |\n",
      "|        |\n",
      "|        |\n",
      "----------\n"
     ]
    }
   ],
   "source": [
    "def rectangle_shape_3(m, n, border_char='*', horizontal_char=None, vertical_char=None):\n",
    "    # Set default values for horizontal and vertical characters\n",
    "    if horizontal_char is None:\n",
    "        horizontal_char = border_char * 1\n",
    "    if vertical_char is None:\n",
    "        vertical_char = border_char\n",
    "\n",
    "    for row in range(n):\n",
    "        if row == 0 or row == n - 1:\n",
    "            print(horizontal_char * m)\n",
    "        else:\n",
    "            print(vertical_char + ' ' * (len(horizontal_char) * m - 2) + vertical_char)\n",
    "\n",
    "# Example usage\n",
    "M = 10\n",
    "N = 5\n",
    "\n",
    "# Default * border\n",
    "rectangle_shape_3(M, N)\n",
    "print(\"\\n\")\n",
    "\n",
    "# Custom border characters\n",
    "rectangle_shape_3(M, N, '|', '-')\n"
   ]
  }
 ],
 "metadata": {
  "kernelspec": {
   "display_name": "Python 3",
   "language": "python",
   "name": "python3"
  },
  "language_info": {
   "codemirror_mode": {
    "name": "ipython",
    "version": 3
   },
   "file_extension": ".py",
   "mimetype": "text/x-python",
   "name": "python",
   "nbconvert_exporter": "python",
   "pygments_lexer": "ipython3",
   "version": "3.12.4"
  }
 },
 "nbformat": 4,
 "nbformat_minor": 2
}
