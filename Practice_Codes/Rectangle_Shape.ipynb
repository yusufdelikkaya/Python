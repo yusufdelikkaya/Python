{
 "cells": [
  {
   "cell_type": "markdown",
   "metadata": {},
   "source": [
    "## **Rectangle Shape Printer Function**\n",
    "\n",
    "- **Objective**: Write a function to print a rectangle shape of a given size made of `'*'` characters.\n",
    "  \n",
    "- **Parameters**:\n",
    "  - `M`: Width of the rectangle (must be greater than 0).\n",
    "  - `N`: Height of the rectangle (must be greater than 0).\n",
    "\n",
    "- **Requirements**:\n",
    "  - The rectangle should be hollow (only the boundary is filled with `'*'`).\n",
    "  - The function should handle cases where `M` and `N` are positive integers.\n",
    "\n",
    "---\n",
    "\n",
    "#### **Example**\n",
    "- **Input**:\n",
    "  - Width (`M`) = 10\n",
    "  - Height (`N`) = 5\n",
    "\n",
    "- **Output**:\n",
    "\n",
    "```\n",
    "**********\n",
    "*        *\n",
    "*        *\n",
    "*        *\n",
    "**********\n",
    "```"
   ]
  },
  {
   "cell_type": "code",
   "execution_count": null,
   "metadata": {},
   "outputs": [
    {
     "name": "stdout",
     "output_type": "stream",
     "text": [
      "**********\n",
      "*        *\n",
      "*        *\n",
      "*        *\n",
      "**********\n"
     ]
    }
   ],
   "source": [
    "def rectangle(m, n):\n",
    "    for row in range(n):\n",
    "        if row == 0 or row == n - 1:\n",
    "            print('*' * m)\n",
    "        else:\n",
    "            print('*' + ' ' * (m - 2) + '*')\n",
    "\n",
    "# Example usage\n",
    "M = 10\n",
    "N = 5\n",
    "rectangle(M, N)"
   ]
  }
 ],
 "metadata": {
  "language_info": {
   "name": "python"
  }
 },
 "nbformat": 4,
 "nbformat_minor": 2
}
