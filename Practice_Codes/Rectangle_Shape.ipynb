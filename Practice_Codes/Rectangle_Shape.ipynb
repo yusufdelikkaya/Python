{
 "cells": [
  {
   "cell_type": "markdown",
   "metadata": {},
   "source": [
    "* Print a rectangle\n",
    "* M is width, N is the height\n",
    "* M > 0, N > 0\n",
    "* Example\n",
    "    * M = 10, N = 5\n",
    "        \n",
    "        ```\n",
    "        **********\n",
    "        *        *\n",
    "        *        *\n",
    "        *        *\n",
    "        *        *\n",
    "        **********\n",
    "        ```"
   ]
  },
  {
   "cell_type": "code",
   "execution_count": null,
   "metadata": {},
   "outputs": [
    {
     "name": "stdout",
     "output_type": "stream",
     "text": [
      "**********\n",
      "*        *\n",
      "*        *\n",
      "*        *\n",
      "**********\n"
     ]
    }
   ],
   "source": [
    "def rectangle(m, n):\n",
    "    for row in range(n):\n",
    "        if row == 0 or row == n - 1:\n",
    "            print('*' * m)\n",
    "        else:\n",
    "            print('*' + ' ' * (m - 2) + '*')\n",
    "\n",
    "# Example usage\n",
    "M = 10\n",
    "N = 5\n",
    "rectangle(M, N)\n"
   ]
  }
 ],
 "metadata": {
  "language_info": {
   "name": "python"
  }
 },
 "nbformat": 4,
 "nbformat_minor": 2
}
