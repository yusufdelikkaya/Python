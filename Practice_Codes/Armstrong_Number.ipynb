{
 "cells": [
  {
   "cell_type": "markdown",
   "metadata": {},
   "source": [
    "## **Armstrong Number**\n",
    "\n",
    "- Armstrong number is the number in any given number base, which forms the total of the same number, when each of its digits is raised to the power of the number of digits in the number.\n",
    "\n",
    "<br />\n",
    "\n",
    "#### **Examples**\n",
    "\n",
    "- For 0, the operation is 0^1=0\n",
    "\n",
    "- For 1, the operation is 1^1=1\n",
    "\n",
    "- For 153, the operation is 1^3 5^3 3^3=153\n",
    "\n",
    "- For 370 the operation is 3^3 7^3 0^3=370\n",
    "\n",
    "- For 371 the operation is 3^3 7^3 1^3=371\n",
    "\n",
    "- For 407 the operation is 4^3 0^3 7^3=407"
   ]
  },
  {
   "cell_type": "code",
   "execution_count": 2,
   "metadata": {},
   "outputs": [
    {
     "name": "stdout",
     "output_type": "stream",
     "text": [
      "407 is an Armstrong number.\n"
     ]
    }
   ],
   "source": [
    "# Function for Armstrong number\n",
    "def is_armstrong(n):\n",
    "    \n",
    "    if n == sum( [ int(i) ** len(str(n)) for i in str(n) ] ):\n",
    "        return True\n",
    "    \n",
    "    else:\n",
    "        return False\n",
    "\n",
    "\n",
    "# Example usage\n",
    "number = 407\n",
    "\n",
    "if is_armstrong(number) == True:\n",
    "    print(f\"{number} is an Armstrong number.\")\n",
    "else:\n",
    "    print(f\"{number} is not an Armstrong number.\")"
   ]
  },
  {
   "cell_type": "code",
   "execution_count": 2,
   "metadata": {},
   "outputs": [
    {
     "name": "stdout",
     "output_type": "stream",
     "text": [
      "6 is an Armstrong number.\n",
      "45 is not an Armstrong number.\n",
      "153 is an Armstrong number.\n",
      "321 is not an Armstrong number.\n",
      "407 is an Armstrong number.\n",
      "You have successfully exited.\n"
     ]
    }
   ],
   "source": [
    "# Using is_armstrong function in a while loop.\n",
    "while True:\n",
    "    sayı = input(\"Please enter a number. For exit enter (q)\")\n",
    "    \n",
    "    if sayı == \"q\":\n",
    "        print(\"You have successfully exited.\")\n",
    "        break\n",
    "    \n",
    "    if is_armstrong(int(sayı)):\n",
    "        print(f\"{sayı} is an Armstrong number.\")\n",
    "    \n",
    "    else:\n",
    "        print(f\"{sayı} is not an Armstrong number.\")"
   ]
  },
  {
   "cell_type": "code",
   "execution_count": 3,
   "metadata": {},
   "outputs": [
    {
     "name": "stdout",
     "output_type": "stream",
     "text": [
      "0 is an Armstrong number.\n",
      "1 is an Armstrong number.\n",
      "2 is an Armstrong number.\n",
      "3 is an Armstrong number.\n",
      "4 is an Armstrong number.\n",
      "5 is an Armstrong number.\n",
      "6 is an Armstrong number.\n",
      "7 is an Armstrong number.\n",
      "8 is an Armstrong number.\n",
      "9 is an Armstrong number.\n",
      "153 is an Armstrong number.\n",
      "370 is an Armstrong number.\n",
      "371 is an Armstrong number.\n",
      "407 is an Armstrong number.\n"
     ]
    }
   ],
   "source": [
    "# Loop over each number in the range\n",
    "for num in range(1000):\n",
    "    if is_armstrong(num):\n",
    "        print(f\"{num} is an Armstrong number.\")"
   ]
  },
  {
   "cell_type": "code",
   "execution_count": 4,
   "metadata": {},
   "outputs": [
    {
     "name": "stdout",
     "output_type": "stream",
     "text": [
      "[0, 1, 2, 3, 4, 5, 6, 7, 8, 9]\n"
     ]
    }
   ],
   "source": [
    "# And here’s how you could modify the function to handle multiple numbers:\n",
    "def is_armstrong_2(*args):\n",
    "    results = []\n",
    "    for n in args:\n",
    "        if n == sum([int(i) ** len(str(n)) for i in str(n)]):\n",
    "            results.append(n)\n",
    "    return results\n",
    "\n",
    "# Call the function with a range of numbers\n",
    "print(is_armstrong_2(*range(100)))\n"
   ]
  }
 ],
 "metadata": {
  "kernelspec": {
   "display_name": "base",
   "language": "python",
   "name": "python3"
  },
  "language_info": {
   "codemirror_mode": {
    "name": "ipython",
    "version": 3
   },
   "file_extension": ".py",
   "mimetype": "text/x-python",
   "name": "python",
   "nbconvert_exporter": "python",
   "pygments_lexer": "ipython3",
   "version": "3.12.4"
  }
 },
 "nbformat": 4,
 "nbformat_minor": 2
}
