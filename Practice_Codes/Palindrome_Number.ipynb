{
 "cells": [
  {
   "cell_type": "markdown",
   "metadata": {},
   "source": [
    "## **Palindrome Number**\n",
    "\n",
    "- A **palindrome number** is a number that reads the same both forwards and backwards.\n",
    "\n",
    "- These numbers remain the same when their digits are reversed.\n",
    "\n",
    "- Negative numbers can't be palindromes.\n",
    "\n",
    "<br />\n",
    "\n",
    "#### **Examples**\n",
    "\n",
    "- **121**: It's a palindrome because reading it from the left or right gives the same number, **121**.\n",
    "\n",
    "- **1221**: It's a palindrome because reading it from the left or right gives the same number, **1221**.\n",
    "\n",
    "- **12321**: It's a palindrome because reading it from the left or right gives the same number, **12321**.\n",
    "\n",
    "<br />\n",
    "\n",
    "#### **Non-Examples**\n",
    "\n",
    "- **123**: It is not a palindrome because reading it from the left gives **123**, but from the right gives **321**.\n",
    "\n",
    "- **456**: It is not a palindrome because reading it from the left gives **456**, but from the right gives **654**.\n",
    "\n",
    "- **-121**: It is not a palindrome because negative numbers can't be palindromes even if it reads the same both forwards and backwards.\n",
    "\n",
    "<br />\n",
    "\n",
    "#### **Quick List of Small Palindrome Numbers**\n",
    "\n",
    "- 0, 1, 2, 3, 4, 5, 6, 7, 8, 9, 11, 22, 33, 44, 55, 66, 77, 88, 99, 101, 111, 121, 131, 141, 151, 161...\n"
   ]
  },
  {
   "cell_type": "code",
   "execution_count": 1,
   "metadata": {},
   "outputs": [
    {
     "name": "stdout",
     "output_type": "stream",
     "text": [
      "-151 is not a Palindrome number.\n"
     ]
    }
   ],
   "source": [
    "def is_palindrome(number):\n",
    "    # Negative numbers can't be palindromes, so return False\n",
    "    if number < 0:\n",
    "        return False\n",
    "    \n",
    "    # Convert number to string, reverse it, and compare it to the original\n",
    "    return str(number) == str(number)[::-1]\n",
    "\n",
    "\n",
    "# Example usage\n",
    "number = -151\n",
    "\n",
    "if is_palindrome(number):\n",
    "    print(f\"{number} is a Palindrome number.\")\n",
    "else:\n",
    "    print(f\"{number} is not a Palindrome number.\")\n"
   ]
  },
  {
   "cell_type": "code",
   "execution_count": 2,
   "metadata": {},
   "outputs": [
    {
     "name": "stdout",
     "output_type": "stream",
     "text": [
      "0 is an Palindrome number.\n",
      "1 is an Palindrome number.\n",
      "2 is an Palindrome number.\n",
      "3 is an Palindrome number.\n",
      "4 is an Palindrome number.\n",
      "5 is an Palindrome number.\n",
      "6 is an Palindrome number.\n",
      "7 is an Palindrome number.\n",
      "8 is an Palindrome number.\n",
      "9 is an Palindrome number.\n",
      "11 is an Palindrome number.\n",
      "22 is an Palindrome number.\n",
      "33 is an Palindrome number.\n",
      "44 is an Palindrome number.\n",
      "55 is an Palindrome number.\n",
      "66 is an Palindrome number.\n",
      "77 is an Palindrome number.\n",
      "88 is an Palindrome number.\n",
      "99 is an Palindrome number.\n",
      "101 is an Palindrome number.\n",
      "111 is an Palindrome number.\n",
      "121 is an Palindrome number.\n",
      "131 is an Palindrome number.\n",
      "141 is an Palindrome number.\n",
      "151 is an Palindrome number.\n",
      "161 is an Palindrome number.\n",
      "171 is an Palindrome number.\n",
      "181 is an Palindrome number.\n",
      "191 is an Palindrome number.\n"
     ]
    }
   ],
   "source": [
    "# Loop over each number in the range\n",
    "for num in range(200):\n",
    "    if is_palindrome(num):\n",
    "        print(f\"{num} is an Palindrome number.\")"
   ]
  }
 ],
 "metadata": {
  "kernelspec": {
   "display_name": "Python 3",
   "language": "python",
   "name": "python3"
  },
  "language_info": {
   "codemirror_mode": {
    "name": "ipython",
    "version": 3
   },
   "file_extension": ".py",
   "mimetype": "text/x-python",
   "name": "python",
   "nbconvert_exporter": "python",
   "pygments_lexer": "ipython3",
   "version": "3.12.4"
  }
 },
 "nbformat": 4,
 "nbformat_minor": 2
}
