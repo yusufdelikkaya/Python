{
 "cells": [
  {
   "cell_type": "markdown",
   "metadata": {},
   "source": [
    "* ### Büyüklüğünü belirleyebileceğiniz rakamlar ile kum saati çizen kodu yazınız."
   ]
  },
  {
   "cell_type": "code",
   "execution_count": null,
   "metadata": {},
   "outputs": [
    {
     "name": "stdout",
     "output_type": "stream",
     "text": [
      "1 2 3 4 5 6 7 8 9 \n",
      " 2 3 4 5 6 7 8 9 \n",
      "  3 4 5 6 7 8 9 \n",
      "   4 5 6 7 8 9 \n",
      "    5 6 7 8 9 \n",
      "     6 7 8 9 \n",
      "      7 8 9 \n",
      "       8 9 \n",
      "        9 \n",
      "       8 9 \n",
      "      7 8 9 \n",
      "     6 7 8 9 \n",
      "    5 6 7 8 9 \n",
      "   4 5 6 7 8 9 \n",
      "  3 4 5 6 7 8 9 \n",
      " 2 3 4 5 6 7 8 9 \n",
      "1 2 3 4 5 6 7 8 9 \n"
     ]
    }
   ],
   "source": [
    "# çift basamaklı sayılarda kum saatinin şekli bozuluyor.\n",
    "\n",
    "def kum_saati_ciz(n):\n",
    "    \n",
    "    for i in range(n):\n",
    "        for j in range(i):\n",
    "            print(\" \", end=\"\")\n",
    "        \n",
    "        for j in range(i, n):\n",
    "            print(j + 1, end=\" \")\n",
    "        print(\"\")\n",
    "    \n",
    "    for i in range(n-2, -1, -1):\n",
    "        for j in range(i):\n",
    "            print(\" \", end=\"\")\n",
    "        \n",
    "        for j in range(i, n):\n",
    "            print(j + 1, end=\" \")\n",
    "        print(\"\")\n",
    "\n",
    "kum_saati_ciz(9)"
   ]
  },
  {
   "cell_type": "code",
   "execution_count": null,
   "metadata": {},
   "outputs": [
    {
     "name": "stdout",
     "output_type": "stream",
     "text": [
      "1 2 3 4 5 6 7 8 9\n",
      " 2 3 4 5 6 7 8 9\n",
      "  3 4 5 6 7 8 9\n",
      "   4 5 6 7 8 9\n",
      "    5 6 7 8 9\n",
      "     6 7 8 9\n",
      "      7 8 9\n",
      "       8 9\n",
      "        9\n",
      "       8 9\n",
      "      7 8 9\n",
      "     6 7 8 9\n",
      "    5 6 7 8 9\n",
      "   4 5 6 7 8 9\n",
      "  3 4 5 6 7 8 9\n",
      " 2 3 4 5 6 7 8 9\n",
      "1 2 3 4 5 6 7 8 9\n"
     ]
    }
   ],
   "source": [
    "# çift basamaklı sayılarda sep=\" \" ile tek basamaklı sayı gibi düzenliyor.\n",
    "\n",
    "def kum_saati_ciz_2(n):\n",
    "    harfler = \"\"\n",
    "    \n",
    "    for i in range(1, n + 1):\n",
    "        harfler += str(i)\n",
    "    \n",
    "    for j in range(len(harfler)):\n",
    "        print(\" \" * j, end=\"\")\n",
    "        print(*harfler[j:], sep=\" \")\n",
    "    \n",
    "    for j in range(len(harfler) - 2, -1, -1):\n",
    "        print(\" \" * j, end=\"\")\n",
    "        print(*harfler[j:], sep=\" \")\n",
    "\n",
    "kum_saati_ciz_2(9)"
   ]
  }
 ],
 "metadata": {
  "language_info": {
   "name": "python"
  }
 },
 "nbformat": 4,
 "nbformat_minor": 2
}
