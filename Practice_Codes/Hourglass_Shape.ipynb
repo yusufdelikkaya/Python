{
 "cells": [
  {
   "cell_type": "markdown",
   "metadata": {},
   "source": [
    "## **Hourglass Shape Printer Function**\n",
    "\n",
    "- **Objective 1**: Write a function to print a hourglass shape of a given size made of `'0,1,2,3,4,5,6,7,8,9'` numbers.\n",
    "\n",
    "- **Objective 2**: Write a function to print a hourglass shape of a given size made of `'*'` characters.\n",
    "\n",
    "<br />\n",
    "\n",
    "#### **Example 1**\n",
    "- **Input**:\n",
    "  - Size = 5\n",
    "\n",
    "- **Output**:\n",
    "\n",
    "```\n",
    "1 2 3 4 5 \n",
    " 2 3 4 5 \n",
    "  3 4 5 \n",
    "   4 5 \n",
    "    5 \n",
    "   4 5 \n",
    "  3 4 5 \n",
    " 2 3 4 5 \n",
    "1 2 3 4 5 \n",
    "```\n",
    "\n",
    "<br />\n",
    "\n",
    "#### **Example 2**\n",
    "- **Input**:\n",
    "  - Size = 5\n",
    "\n",
    "- **Output**:\n",
    "\n",
    "```\n",
    "* * * * * \n",
    " * * * * \n",
    "  * * * \n",
    "   * * \n",
    "    * \n",
    "   * * \n",
    "  * * * \n",
    " * * * * \n",
    "* * * * * \n",
    "```"
   ]
  },
  {
   "cell_type": "code",
   "execution_count": 1,
   "metadata": {},
   "outputs": [
    {
     "name": "stdout",
     "output_type": "stream",
     "text": [
      "1 2 3 4 5 \n",
      " 2 3 4 5 \n",
      "  3 4 5 \n",
      "   4 5 \n",
      "    5 \n",
      "   4 5 \n",
      "  3 4 5 \n",
      " 2 3 4 5 \n",
      "1 2 3 4 5 \n"
     ]
    }
   ],
   "source": [
    "# In this function, the hourglass shape gets distorted when using two-digit numbers.\n",
    "\n",
    "def hourglass_shape_1(n):\n",
    "    \n",
    "    for i in range(n):\n",
    "        for j in range(i):\n",
    "            print(\" \", end=\"\")\n",
    "        \n",
    "        for j in range(i, n):\n",
    "            print(j + 1, end=\" \")\n",
    "        print(\"\")\n",
    "    \n",
    "    for i in range(n-2, -1, -1):\n",
    "        for j in range(i):\n",
    "            print(\" \", end=\"\")\n",
    "        \n",
    "        for j in range(i, n):\n",
    "            print(j + 1, end=\" \")\n",
    "        print(\"\")\n",
    "\n",
    "# Test the function\n",
    "hourglass_shape_1(5)"
   ]
  },
  {
   "cell_type": "code",
   "execution_count": 2,
   "metadata": {},
   "outputs": [
    {
     "name": "stdout",
     "output_type": "stream",
     "text": [
      "1 2 3 4 5\n",
      " 2 3 4 5\n",
      "  3 4 5\n",
      "   4 5\n",
      "    5\n",
      "   4 5\n",
      "  3 4 5\n",
      " 2 3 4 5\n",
      "1 2 3 4 5\n"
     ]
    }
   ],
   "source": [
    "# In this function, the hourglass shape gets distorted when using two-digit numbers.\n",
    "# It is very similiar to hourglass_shape_1\n",
    "\n",
    "def hourglass_shape_2(n):\n",
    "    for i in range(n):\n",
    "        print(\" \" * i + \" \".join(str(x) for x in range(i + 1, n + 1)))\n",
    "\n",
    "    for i in range(n-2, -1, -1):\n",
    "        print(\" \" * i + \" \".join(str(x) for x in range(i + 1, n + 1)))\n",
    "\n",
    "# Test the function\n",
    "hourglass_shape_2(5)\n"
   ]
  },
  {
   "cell_type": "code",
   "execution_count": 3,
   "metadata": {},
   "outputs": [
    {
     "name": "stdout",
     "output_type": "stream",
     "text": [
      "1 2 3 4 5\n",
      " 2 3 4 5\n",
      "  3 4 5\n",
      "   4 5\n",
      "    5\n",
      "   4 5\n",
      "  3 4 5\n",
      " 2 3 4 5\n",
      "1 2 3 4 5\n"
     ]
    }
   ],
   "source": [
    "# This function formats two or more digit numbers with sep=\" \" to appear as neatly as single-digit numbers\n",
    "\n",
    "def hourglass_shape_3(n):\n",
    "    harfler = \"\"\n",
    "    \n",
    "    for i in range(1, n + 1):\n",
    "        harfler += str(i)\n",
    "    \n",
    "    for j in range(len(harfler)):\n",
    "        print(\" \" * j, end=\"\")\n",
    "        print(*harfler[j:], sep=\" \")\n",
    "    \n",
    "    for j in range(len(harfler) - 2, -1, -1):\n",
    "        print(\" \" * j, end=\"\")\n",
    "        print(*harfler[j:], sep=\" \")\n",
    "\n",
    "# Test the function\n",
    "hourglass_shape_3(5)"
   ]
  },
  {
   "cell_type": "markdown",
   "metadata": {},
   "source": [
    "---"
   ]
  },
  {
   "cell_type": "code",
   "execution_count": 4,
   "metadata": {},
   "outputs": [
    {
     "name": "stdout",
     "output_type": "stream",
     "text": [
      "* * * * * \n",
      " * * * * \n",
      "  * * * \n",
      "   * * \n",
      "    * \n",
      "   * * \n",
      "  * * * \n",
      " * * * * \n",
      "* * * * * \n"
     ]
    }
   ],
   "source": [
    "# This function print a hourglass shape of a given size made of ' * '\n",
    "\n",
    "def hourglass_shape_v2_1(n):\n",
    "    \n",
    "    for i in range(n):\n",
    "        for j in range(i):\n",
    "            print(\" \", end=\"\")\n",
    "        \n",
    "        for j in range(i, n):\n",
    "            print(\"*\", end=\" \")\n",
    "        print(\"\")\n",
    "    \n",
    "    for i in range(n-2, -1, -1):\n",
    "        for j in range(i):\n",
    "            print(\" \", end=\"\")\n",
    "        \n",
    "        for j in range(i, n):\n",
    "            print(\"*\", end=\" \")\n",
    "        print(\"\")\n",
    "\n",
    "# Test the function\n",
    "hourglass_shape_v2_1(5)"
   ]
  },
  {
   "cell_type": "code",
   "execution_count": 5,
   "metadata": {},
   "outputs": [
    {
     "name": "stdout",
     "output_type": "stream",
     "text": [
      "* * * * *\n",
      " * * * *\n",
      "  * * *\n",
      "   * *\n",
      "    *\n",
      "   * *\n",
      "  * * *\n",
      " * * * *\n",
      "* * * * *\n"
     ]
    }
   ],
   "source": [
    "# This function print a hourglass shape of a given size made of ' * '\n",
    "# It is very similiar to hourglass_shape_v2_1\n",
    "\n",
    "def hourglass_shape_v2_2(n):\n",
    "    for i in range(n):\n",
    "        print(\" \" * i + \" \".join('*' for x in range(i + 1, n + 1)))\n",
    "\n",
    "    for i in range(n-2, -1, -1):\n",
    "        print(\" \" * i + \" \".join('*' for x in range(i + 1, n + 1)))\n",
    "\n",
    "# Test the function\n",
    "hourglass_shape_v2_2(5)\n"
   ]
  }
 ],
 "metadata": {
  "kernelspec": {
   "display_name": "base",
   "language": "python",
   "name": "python3"
  },
  "language_info": {
   "codemirror_mode": {
    "name": "ipython",
    "version": 3
   },
   "file_extension": ".py",
   "mimetype": "text/x-python",
   "name": "python",
   "nbconvert_exporter": "python",
   "pygments_lexer": "ipython3",
   "version": "3.12.4"
  }
 },
 "nbformat": 4,
 "nbformat_minor": 2
}
