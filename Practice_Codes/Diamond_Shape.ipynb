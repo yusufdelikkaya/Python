{
 "cells": [
  {
   "cell_type": "markdown",
   "metadata": {},
   "source": [
    "* ### Büyüklüğünü belirleyeceğiniz bir baklava dilimi çizen kodu yazınız."
   ]
  },
  {
   "cell_type": "code",
   "execution_count": null,
   "metadata": {},
   "outputs": [
    {
     "name": "stdout",
     "output_type": "stream",
     "text": [
      "    / \n",
      "   / / \n",
      "  / / / \n",
      " / / / / \n",
      "/ / / / / \n",
      " / / / / \n",
      "  / / / \n",
      "   / / \n",
      "    / \n"
     ]
    }
   ],
   "source": [
    "def baklava_dilimi_ciz_1(n):\n",
    "    # Üst kısmı çizmek\n",
    "    for i in range(n):\n",
    "        print(' ' * (n - i - 1) + '/ ' * (i + 1))\n",
    "    \n",
    "    # Alt kısmı çizmek\n",
    "    for i in range(n - 1):\n",
    "        print(' ' * (i + 1) + '/ ' * (n - i - 1))\n",
    "\n",
    "baklava_dilimi_ciz_1(5)"
   ]
  },
  {
   "cell_type": "code",
   "execution_count": null,
   "metadata": {},
   "outputs": [
    {
     "name": "stdout",
     "output_type": "stream",
     "text": [
      "    / \n",
      "   / / \n",
      "  / / / \n",
      " / / / / \n",
      "/ / / / / \n",
      " / / / / \n",
      "  / / / \n",
      "   / / \n",
      "    / \n"
     ]
    }
   ],
   "source": [
    "def baklava_dilimi_ciz_2(n):\n",
    "    width = n # En geniş satırın genişliği\n",
    "    \n",
    "    # Üst kısmı çizmek\n",
    "    for i in range(n):\n",
    "        line = ' ' * (n - i - 1) + '/ ' * (i + 1)\n",
    "        print(line.center(width))\n",
    "    \n",
    "    # Alt kısmı çizmek\n",
    "    for i in range(n - 1):\n",
    "        line = ' ' * (i + 1) + '/ ' * (n - i - 1)\n",
    "        print(line.center(width))\n",
    "\n",
    "baklava_dilimi_ciz_2(5)\n"
   ]
  },
  {
   "cell_type": "code",
   "execution_count": null,
   "metadata": {},
   "outputs": [
    {
     "name": "stdout",
     "output_type": "stream",
     "text": [
      "    /     \n",
      "   / /    \n",
      "  / / /   \n",
      " / / / /  \n",
      "/ / / / / \n",
      " / / / /  \n",
      "  / / /   \n",
      "   / /    \n",
      "    /     \n"
     ]
    }
   ],
   "source": [
    "def baklava_dilimi_ciz_3(n):\n",
    "    width = n * 2  # En geniş satırın genişliği\n",
    "    \n",
    "    # Üst kısmı çizmek\n",
    "    for i in range(n):\n",
    "        line = '/ ' * (i + 1)\n",
    "        print(line.center(width))\n",
    "    \n",
    "    # Alt kısmı çizmek\n",
    "    for i in range(n - 1):\n",
    "        line = '/ ' * (n - i - 1)\n",
    "        print(line.center(width))\n",
    "\n",
    "baklava_dilimi_ciz_3(5)\n"
   ]
  }
 ],
 "metadata": {
  "language_info": {
   "name": "python"
  }
 },
 "nbformat": 4,
 "nbformat_minor": 2
}
