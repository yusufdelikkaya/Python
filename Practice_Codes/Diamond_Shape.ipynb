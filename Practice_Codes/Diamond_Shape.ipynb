{
 "cells": [
  {
   "cell_type": "markdown",
   "metadata": {},
   "source": [
    "## Version_1\n",
    "\n",
    "### Write a function to print a diamond shape of a given size.\n",
    "\n",
    "* #### For example for size = 5\n",
    "\n",
    "```\n",
    "\n",
    "    / \n",
    "   / / \n",
    "  / / / \n",
    " / / / / \n",
    "/ / / / / \n",
    " / / / / \n",
    "  / / / \n",
    "   / / \n",
    "    / \n",
    "\n",
    "```"
   ]
  },
  {
   "cell_type": "code",
   "execution_count": 6,
   "metadata": {},
   "outputs": [
    {
     "name": "stdout",
     "output_type": "stream",
     "text": [
      "    / \n",
      "   / / \n",
      "  / / / \n",
      " / / / / \n",
      "/ / / / / \n",
      " / / / / \n",
      "  / / / \n",
      "   / / \n",
      "    / \n"
     ]
    }
   ],
   "source": [
    "def diamond_shape_1(n):\n",
    "    # Upper part of the diamond\n",
    "    for i in range(n):\n",
    "        # Print spaces and slashes for the upper part\n",
    "        print(' ' * (n - i - 1) + '/ ' * (i + 1))\n",
    "    \n",
    "    # Lower part of the diamond\n",
    "    for i in range(n - 1):\n",
    "        # Print spaces and slashes for the lower part\n",
    "        print(' ' * (i + 1) + '/ ' * (n - i - 1))\n",
    "\n",
    "diamond_shape_1(5)"
   ]
  },
  {
   "cell_type": "code",
   "execution_count": 7,
   "metadata": {},
   "outputs": [
    {
     "name": "stdout",
     "output_type": "stream",
     "text": [
      "    / \n",
      "   / / \n",
      "  / / / \n",
      " / / / / \n",
      "/ / / / / \n",
      " / / / / \n",
      "  / / / \n",
      "   / / \n",
      "    / \n"
     ]
    }
   ],
   "source": [
    "def diamond_shape_2(n):\n",
    "    width = n # Calculate the width of the diamond at its widest point\n",
    "    \n",
    "    # Upper part of the diamond\n",
    "    for i in range(n):\n",
    "        # Create each line of the diamond\n",
    "        line = ' ' * (n - i - 1) + '/ ' * (i + 1)\n",
    "        # Center the line based on the calculated width\n",
    "        print(line.center(width))\n",
    "    \n",
    "    # Lower part of the diamond\n",
    "    for i in range(n - 1):\n",
    "        # Create each line of the diamond\n",
    "        line = ' ' * (i + 1) + '/ ' * (n - i - 1)\n",
    "        # Center the line based on the calculated width\n",
    "        print(line.center(width))\n",
    "\n",
    "diamond_shape_2(5)"
   ]
  },
  {
   "cell_type": "code",
   "execution_count": 8,
   "metadata": {},
   "outputs": [
    {
     "name": "stdout",
     "output_type": "stream",
     "text": [
      "    /     \n",
      "   / /    \n",
      "  / / /   \n",
      " / / / /  \n",
      "/ / / / / \n",
      " / / / /  \n",
      "  / / /   \n",
      "   / /    \n",
      "    /     \n"
     ]
    }
   ],
   "source": [
    "def diamond_shape_3(n):\n",
    "    width = n * 2  # Calculate the width as double the size of n\n",
    "    \n",
    "    # Upper part of the diamond\n",
    "    for i in range(n):\n",
    "        # Create each line for the upper part\n",
    "        line = '/ ' * (i + 1)\n",
    "        # Center the line based on the width\n",
    "        print(line.center(width))\n",
    "    \n",
    "    # Lower part of the diamond\n",
    "    for i in range(n - 1):\n",
    "        # Create each line for the lower part\n",
    "        line = '/ ' * (n - i - 1)\n",
    "        # Center the line based on the width\n",
    "        print(line.center(width))\n",
    "\n",
    "diamond_shape_3(5)\n"
   ]
  },
  {
   "cell_type": "markdown",
   "metadata": {},
   "source": [
    "---\n",
    "---\n",
    "---"
   ]
  },
  {
   "cell_type": "markdown",
   "metadata": {},
   "source": [
    "## Version_2\n",
    "\n",
    "### Write a function to print a diamond shape of a given size.\n",
    "\n",
    "* #### For example for size = 5\n",
    "\n",
    "```\n",
    "\n",
    "    /\\\n",
    "   /  \\\n",
    "  /    \\\n",
    " /      \\\n",
    "/        \\\n",
    "\\        /\n",
    " \\      /\n",
    "  \\    /\n",
    "   \\  /\n",
    "    \\/\n",
    "\n",
    "```"
   ]
  },
  {
   "cell_type": "code",
   "execution_count": 9,
   "metadata": {},
   "outputs": [
    {
     "name": "stdout",
     "output_type": "stream",
     "text": [
      "    /\\\n",
      "   /  \\\n",
      "  /    \\\n",
      " /      \\\n",
      "/        \\\n",
      "\\        /\n",
      " \\      /\n",
      "  \\    /\n",
      "   \\  /\n",
      "    \\/\n"
     ]
    }
   ],
   "source": [
    "def diamond_shape_v2_1(n):\n",
    "    # Upper part of the diamond\n",
    "    for i in range(n):\n",
    "        # Print spaces and slashes for the upper part\n",
    "        print(' ' * (n - i - 1) + '/' + ' ' * (2 * i) + '\\\\')\n",
    "    \n",
    "    # Lower part of the diamond\n",
    "    for i in range(n):\n",
    "        # Print spaces and slashes for the lower part\n",
    "        print(' ' * (i) + '\\\\' + ' ' * (2 * (n - i - 1)) + '/')\n",
    "\n",
    "diamond_shape_v2_1(5)"
   ]
  },
  {
   "cell_type": "code",
   "execution_count": 10,
   "metadata": {},
   "outputs": [
    {
     "name": "stdout",
     "output_type": "stream",
     "text": [
      "    /\\   \n",
      "   /  \\  \n",
      "  /    \\ \n",
      " /      \\\n",
      "/        \\\n",
      "\\        /\n",
      " \\      /\n",
      "  \\    / \n",
      "   \\  /  \n",
      "    \\/   \n"
     ]
    }
   ],
   "source": [
    "def diamond_shape_v2_2(n):\n",
    "    width = n * 2 - 1  # Calculate the width of the diamond at its widest point\n",
    "    \n",
    "    # Upper part of the diamond\n",
    "    for i in range(n):\n",
    "        # Create each line of the diamond\n",
    "        line = '/' + ' ' * (2 * i) + '\\\\'\n",
    "        # Center the line based on the calculated width\n",
    "        print(line.center(width))\n",
    "    \n",
    "    # Lower part of the diamond\n",
    "    for i in range(n):\n",
    "        # Create each line of the diamond\n",
    "        line = '\\\\' + ' ' * (2 * (n - i - 1)) + '/'\n",
    "        # Center the line based on the calculated width\n",
    "        print(line.center(width))\n",
    "\n",
    "diamond_shape_v2_2(5)"
   ]
  },
  {
   "cell_type": "code",
   "execution_count": 11,
   "metadata": {},
   "outputs": [
    {
     "name": "stdout",
     "output_type": "stream",
     "text": [
      "    /\\    \n",
      "   /  \\   \n",
      "  /    \\  \n",
      " /      \\ \n",
      "/        \\\n",
      "\\        /\n",
      " \\      / \n",
      "  \\    /  \n",
      "   \\  /   \n",
      "    \\/    \n"
     ]
    }
   ],
   "source": [
    "def diamond_shape_v2_3(n):\n",
    "    width = n * 2  # Calculate the width as double the size of n\n",
    "    \n",
    "    # Upper part of the diamond\n",
    "    for i in range(n):\n",
    "        # Create each line for the upper part\n",
    "        line = '/' + ' ' * (2 * i) + '\\\\'\n",
    "        # Center the line based on the width\n",
    "        print(line.center(width))\n",
    "    \n",
    "    # Lower part of the diamond\n",
    "    for i in range(n):\n",
    "        # Create each line for the lower part\n",
    "        line = '\\\\' + ' ' * (2 * (n - i - 1)) + '/'\n",
    "        # Center the line based on the width\n",
    "        print(line.center(width))\n",
    "\n",
    "diamond_shape_v2_3(5)\n"
   ]
  }
 ],
 "metadata": {
  "kernelspec": {
   "display_name": "Python 3",
   "language": "python",
   "name": "python3"
  },
  "language_info": {
   "codemirror_mode": {
    "name": "ipython",
    "version": 3
   },
   "file_extension": ".py",
   "mimetype": "text/x-python",
   "name": "python",
   "nbconvert_exporter": "python",
   "pygments_lexer": "ipython3",
   "version": "3.12.4"
  }
 },
 "nbformat": 4,
 "nbformat_minor": 2
}
