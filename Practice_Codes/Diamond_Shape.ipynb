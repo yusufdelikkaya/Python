{
 "cells": [
  {
   "cell_type": "markdown",
   "metadata": {},
   "source": [
    "## **Diamond Shape Printer Function**\n",
    "\n",
    "- **Objective 1**: Write a function to print a diamond shape of a given size made of `'/'` characters.\n",
    "\n",
    "- **Objective 2**: Write a function to print a diamond shape of a given size made of `'/'` and `'\\'` characters.\n",
    "\n",
    "<br />\n",
    "\n",
    "#### **Example 1**\n",
    "- **Input**:\n",
    "  - Size = 5\n",
    "\n",
    "- **Output**:\n",
    "\n",
    "```\n",
    "    / \n",
    "   / / \n",
    "  / / / \n",
    " / / / / \n",
    "/ / / / / \n",
    " / / / / \n",
    "  / / / \n",
    "   / / \n",
    "    / \n",
    "```\n",
    "\n",
    "<br />\n",
    "\n",
    "#### **Example 2**\n",
    "- **Input**:\n",
    "  - Size = 5\n",
    "\n",
    "- **Output**:\n",
    "\n",
    "```\n",
    "    /\\\n",
    "   /  \\\n",
    "  /    \\\n",
    " /      \\\n",
    "/        \\\n",
    "\\        /\n",
    " \\      /\n",
    "  \\    /\n",
    "   \\  /\n",
    "    \\/\n",
    "```"
   ]
  },
  {
   "cell_type": "code",
   "execution_count": 1,
   "metadata": {},
   "outputs": [
    {
     "name": "stdout",
     "output_type": "stream",
     "text": [
      "    / \n",
      "   / / \n",
      "  / / / \n",
      " / / / / \n",
      "/ / / / / \n",
      " / / / / \n",
      "  / / / \n",
      "   / / \n",
      "    / \n"
     ]
    }
   ],
   "source": [
    "def diamond_shape_1(n):\n",
    "    # Upper part of the diamond\n",
    "    for i in range(n):\n",
    "        # Print spaces and slashes for the upper part\n",
    "        print(' ' * (n - i - 1) + '/ ' * (i + 1))\n",
    "    \n",
    "    # Lower part of the diamond\n",
    "    for i in range(n - 1):\n",
    "        # Print spaces and slashes for the lower part\n",
    "        print(' ' * (i + 1) + '/ ' * (n - i - 1))\n",
    "\n",
    "diamond_shape_1(5)"
   ]
  },
  {
   "cell_type": "code",
   "execution_count": 2,
   "metadata": {},
   "outputs": [
    {
     "name": "stdout",
     "output_type": "stream",
     "text": [
      "    / \n",
      "   / / \n",
      "  / / / \n",
      " / / / / \n",
      "/ / / / / \n",
      " / / / / \n",
      "  / / / \n",
      "   / / \n",
      "    / \n"
     ]
    }
   ],
   "source": [
    "def diamond_shape_2(n):\n",
    "    width = n  # Calculate the width of the diamond at its widest point\n",
    "    \n",
    "    # Upper part of the diamond\n",
    "    for i in range(n):\n",
    "        # Create each line for the upper part\n",
    "        line = ' ' * (n - i - 1) + '/ ' * (i + 1)\n",
    "        # Center the line based on the width\n",
    "        print(line.center(width))\n",
    "    \n",
    "    # Lower part of the diamond\n",
    "    for i in range(n - 1):\n",
    "        # Create each line for the lower part\n",
    "        line = ' ' * (i + 1) + '/ ' * (n - i - 1)\n",
    "        # Center the line based on the width\n",
    "        print(line.center(width))\n",
    "\n",
    "diamond_shape_2(5)"
   ]
  },
  {
   "cell_type": "code",
   "execution_count": 3,
   "metadata": {},
   "outputs": [
    {
     "name": "stdout",
     "output_type": "stream",
     "text": [
      "    /     \n",
      "   / /    \n",
      "  / / /   \n",
      " / / / /  \n",
      "/ / / / / \n",
      " / / / /  \n",
      "  / / /   \n",
      "   / /    \n",
      "    /     \n"
     ]
    }
   ],
   "source": [
    "def diamond_shape_3(n):\n",
    "    width = n * 2  # Calculate the width of the diamond at its widest point\n",
    "    \n",
    "    # Upper part of the diamond\n",
    "    for i in range(n):\n",
    "        # Create each line for the upper part\n",
    "        line = '/ ' * (i + 1)\n",
    "        # Center the line based on the width\n",
    "        print(line.center(width))\n",
    "    \n",
    "    # Lower part of the diamond\n",
    "    for i in range(n - 1):\n",
    "        # Create each line for the lower part\n",
    "        line = '/ ' * (n - i - 1)\n",
    "        # Center the line based on the width\n",
    "        print(line.center(width))\n",
    "\n",
    "diamond_shape_3(5)\n"
   ]
  },
  {
   "cell_type": "markdown",
   "metadata": {},
   "source": [
    "---"
   ]
  },
  {
   "cell_type": "code",
   "execution_count": 4,
   "metadata": {},
   "outputs": [
    {
     "name": "stdout",
     "output_type": "stream",
     "text": [
      "    /\\\n",
      "   /  \\\n",
      "  /    \\\n",
      " /      \\\n",
      "/        \\\n",
      "\\        /\n",
      " \\      /\n",
      "  \\    /\n",
      "   \\  /\n",
      "    \\/\n"
     ]
    }
   ],
   "source": [
    "def diamond_shape_v2_1(n):\n",
    "    # Upper part of the diamond\n",
    "    for i in range(n):\n",
    "        # Print spaces and slashes for the upper part\n",
    "        print(' ' * (n - i - 1) + '/' + ' ' * (2 * i) + '\\\\')\n",
    "    \n",
    "    # Lower part of the diamond\n",
    "    for i in range(n):\n",
    "        # Print spaces and slashes for the lower part\n",
    "        print(' ' * (i) + '\\\\' + ' ' * (2 * (n - i - 1)) + '/')\n",
    "\n",
    "diamond_shape_v2_1(5)"
   ]
  },
  {
   "cell_type": "code",
   "execution_count": 5,
   "metadata": {},
   "outputs": [
    {
     "name": "stdout",
     "output_type": "stream",
     "text": [
      "    /\\\n",
      "   /  \\\n",
      "  /    \\\n",
      " /      \\\n",
      "/        \\\n",
      "\\        /\n",
      " \\      /\n",
      "  \\    /\n",
      "   \\  /\n",
      "    \\/\n"
     ]
    }
   ],
   "source": [
    "def diamond_shape_v2_2(n):\n",
    "    width = n  # Calculate the width of the diamond at its widest point\n",
    "    \n",
    "    # Upper part of the diamond\n",
    "    for i in range(n):\n",
    "        # Create each line for the upper part\n",
    "        line = ' ' * (n - i - 1) + '/' + ' ' * (2 * i) + '\\\\'\n",
    "        # Center the line based on the width\n",
    "        print(line.center(width))\n",
    "    \n",
    "    # Lower part of the diamond\n",
    "    for i in range(n):\n",
    "        # Create each line for the lower part\n",
    "        line = ' ' * (i) + '\\\\' + ' ' * (2 * (n - i - 1)) + '/'\n",
    "        # Center the line based on the width\n",
    "        print(line.center(width))\n",
    "\n",
    "diamond_shape_v2_2(5)"
   ]
  },
  {
   "cell_type": "code",
   "execution_count": 6,
   "metadata": {},
   "outputs": [
    {
     "name": "stdout",
     "output_type": "stream",
     "text": [
      "    /\\    \n",
      "   /  \\   \n",
      "  /    \\  \n",
      " /      \\ \n",
      "/        \\\n",
      "\\        /\n",
      " \\      / \n",
      "  \\    /  \n",
      "   \\  /   \n",
      "    \\/    \n"
     ]
    }
   ],
   "source": [
    "def diamond_shape_v2_3(n):\n",
    "    width = n * 2  # Calculate the width of the diamond at its widest point\n",
    "    \n",
    "    # Upper part of the diamond\n",
    "    for i in range(n):\n",
    "        # Create each line for the upper part\n",
    "        line = '/' + ' ' * (2 * i) + '\\\\'\n",
    "        # Center the line based on the width\n",
    "        print(line.center(width))\n",
    "    \n",
    "    # Lower part of the diamond\n",
    "    for i in range(n):\n",
    "        # Create each line for the lower part\n",
    "        line = '\\\\' + ' ' * (2 * (n - i - 1)) + '/'\n",
    "        # Center the line based on the width\n",
    "        print(line.center(width))\n",
    "\n",
    "diamond_shape_v2_3(5)"
   ]
  }
 ],
 "metadata": {
  "kernelspec": {
   "display_name": "Python 3",
   "language": "python",
   "name": "python3"
  },
  "language_info": {
   "codemirror_mode": {
    "name": "ipython",
    "version": 3
   },
   "file_extension": ".py",
   "mimetype": "text/x-python",
   "name": "python",
   "nbconvert_exporter": "python",
   "pygments_lexer": "ipython3",
   "version": "3.12.4"
  }
 },
 "nbformat": 4,
 "nbformat_minor": 2
}
