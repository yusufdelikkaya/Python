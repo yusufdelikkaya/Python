{
 "cells": [
  {
   "cell_type": "markdown",
   "metadata": {},
   "source": [
    "## **Emirp Number**\n",
    "\n",
    "- An **emirp number** is a prime number that, when its digits are reversed, results in a different prime number.\n",
    "\n",
    "- Importantly, an emirp number is not a palindrome, meaning the number does **not** read the same forwards and backwards.\n",
    "\n",
    "<br />\n",
    "\n",
    "#### **Examples**\n",
    "\n",
    "- **13**: It's a prime number, and its reverse, **31**, is also a prime number. Since 13 ≠ 31, it is an **emirp**.\n",
    "\n",
    "- **17**: It's a prime number, and its reverse, **71**, is also a prime number. Since 17 ≠ 71, it is an **emirp**.\n",
    "\n",
    "- **37**: It's a prime number, and its reverse, **73**, is also a prime number. Since 37 ≠ 73, it is an **emirp**.\n",
    "\n",
    "- **107**: It's a prime number, and its reverse, **701**, is also a prime number. Since 107 ≠ 701, it is an **emirp**.\n",
    "\n",
    "<br />\n",
    "\n",
    "#### **Non-Examples (Palindromic Primes)**\n",
    "\n",
    "- **11**: It's a prime, but when reversed, it's still **11**, which makes it a palindromic prime, **not an emirp**.\n",
    "\n",
    "<br />\n",
    "\n",
    "#### **Quick List of Small Emirp Numbers**\n",
    "\n",
    "- 13, 17, 31, 37, 71, 73, 79, 97, 107, 113, 149, 157...\n"
   ]
  },
  {
   "cell_type": "code",
   "execution_count": 1,
   "metadata": {},
   "outputs": [
    {
     "name": "stdout",
     "output_type": "stream",
     "text": [
      "151 is not an Emirp number.\n"
     ]
    }
   ],
   "source": [
    "# Checking if a Number is Emirp\n",
    "\n",
    "def is_prime(number):\n",
    "    \"\"\"\n",
    "    This function determines if a given number is prime.\n",
    "    \"\"\"\n",
    "    if number <= 1:\n",
    "        return False  # Numbers less than or equal to 1 are not prime\n",
    "    if number == 2:\n",
    "        return True  # 2 is the only even prime number\n",
    "    if number % 2 == 0:\n",
    "        return False  # Exclude other even numbers\n",
    "    for i in range(3, int(number**0.5) + 1, 2):\n",
    "        if number % i == 0:\n",
    "            return False  # Found a divisor, so it's not prime\n",
    "    return True  # No divisors found, it's prime\n",
    "\n",
    "# Explanation:\n",
    "# - Numbers <= 1: These are not prime.\n",
    "# - Number 2: It is the only even prime number.\n",
    "# - Even Numbers: Other even numbers are not prime, so they are excluded.\n",
    "# - Loop: Checks divisors from 3 up to the square root of the number. If a divisor is found, the number is not prime.\n",
    "# - Return: If no divisors are found, the number is prime.\n",
    "\n",
    "def is_emirp(number):\n",
    "    \"\"\"\n",
    "    This function determines if a given number is emirp.\n",
    "    \"\"\"\n",
    "    if is_prime(number) == True:\n",
    "        \n",
    "        reverse_number = int(str(number)[::-1])  # Reverse the digits\n",
    "        \n",
    "        # Check if the reversed number is prime and different from the original number\n",
    "        if is_prime(reverse_number) == True and reverse_number != number:\n",
    "            return True\n",
    "        else:\n",
    "            return False\n",
    "    else:\n",
    "        return False\n",
    "\n",
    "\n",
    "# Example usage\n",
    "number = 151\n",
    "\n",
    "if is_emirp(number) == True:\n",
    "    print(f\"{number} is an Emirp number.\")\n",
    "else:\n",
    "    print(f\"{number} is not an Emirp number.\")\n"
   ]
  },
  {
   "cell_type": "code",
   "execution_count": 2,
   "metadata": {},
   "outputs": [
    {
     "name": "stdout",
     "output_type": "stream",
     "text": [
      "0 is not an Emirp number.\n",
      "1 is not an Emirp number.\n",
      "2 is not an Emirp number.\n",
      "3 is not an Emirp number.\n",
      "11 is not an Emirp number.\n",
      "12 is not an Emirp number.\n",
      "13 is an Emirp number.\n",
      "16 is not an Emirp number.\n",
      "17 is an Emirp number.\n",
      "18 is not an Emirp number.\n",
      "You have successfully exited.\n"
     ]
    }
   ],
   "source": [
    "# Using is_emirp function in a while loop.\n",
    "while True:\n",
    "    number = input(\"Please enter a number. For exit enter (q)\")\n",
    "    \n",
    "    if number == \"q\":\n",
    "        print(\"You have successfully exited.\")\n",
    "        break\n",
    "    \n",
    "    if is_emirp(int(number)):\n",
    "        print(f\"{number} is an Emirp number.\")\n",
    "    \n",
    "    else:\n",
    "        print(f\"{number} is not an Emirp number.\")"
   ]
  },
  {
   "cell_type": "code",
   "execution_count": 3,
   "metadata": {},
   "outputs": [
    {
     "name": "stdout",
     "output_type": "stream",
     "text": [
      "13 is an Emirp number.\n",
      "17 is an Emirp number.\n",
      "31 is an Emirp number.\n",
      "37 is an Emirp number.\n",
      "71 is an Emirp number.\n",
      "73 is an Emirp number.\n",
      "79 is an Emirp number.\n",
      "97 is an Emirp number.\n",
      "107 is an Emirp number.\n",
      "113 is an Emirp number.\n",
      "149 is an Emirp number.\n",
      "157 is an Emirp number.\n",
      "167 is an Emirp number.\n",
      "179 is an Emirp number.\n",
      "199 is an Emirp number.\n"
     ]
    }
   ],
   "source": [
    "# Loop over each number in the range\n",
    "for num in range(200):\n",
    "    if is_emirp(num):\n",
    "        print(f\"{num} is an Emirp number.\")"
   ]
  }
 ],
 "metadata": {
  "kernelspec": {
   "display_name": "Python 3",
   "language": "python",
   "name": "python3"
  },
  "language_info": {
   "codemirror_mode": {
    "name": "ipython",
    "version": 3
   },
   "file_extension": ".py",
   "mimetype": "text/x-python",
   "name": "python",
   "nbconvert_exporter": "python",
   "pygments_lexer": "ipython3",
   "version": "3.12.4"
  }
 },
 "nbformat": 4,
 "nbformat_minor": 2
}
